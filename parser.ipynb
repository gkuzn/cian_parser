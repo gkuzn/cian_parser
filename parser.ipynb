{
 "cells": [
  {
   "cell_type": "code",
   "execution_count": null,
   "metadata": {
    "collapsed": false
   },
   "outputs": [
    {
     "name": "stdout",
     "output_type": "stream",
     "text": [
      "111.76693048363846\n",
      "Local current time : (22, 42)\n"
     ]
    },
    {
     "name": "stderr",
     "output_type": "stream",
     "text": [
      "  0%|                                                                                           | 0/49 [00:00<?, ?it/s]\n",
      "  0%|                                                                                            | 0/4 [00:00<?, ?it/s]\n",
      " 25%|█████████████████████                                                               | 1/4 [00:03<00:10,  3.39s/it]\n",
      " 50%|██████████████████████████████████████████                                          | 2/4 [00:05<00:05,  2.99s/it]\n",
      " 75%|███████████████████████████████████████████████████████████████                     | 3/4 [00:07<00:02,  2.62s/it]\n",
      "100%|████████████████████████████████████████████████████████████████████████████████████| 4/4 [00:09<00:00,  2.51s/it]\n",
      "  2%|█▋                                                                                 | 1/49 [00:20<16:09, 20.20s/it]"
     ]
    }
   ],
   "source": [
    "# -*- coding: utf-8 -*-\n",
    "\"\"\"\n",
    "Created on Fri Nov  4 14:56:42 2016\n",
    "@author: Artem\n",
    "\"\"\"\n",
    "import requests\n",
    "import re\n",
    "from bs4 import BeautifulSoup\n",
    "import pandas as pd\n",
    "import time\n",
    "#Библиотека содержит\n",
    "import get_data_dic\n",
    "import distr\n",
    "from tqdm import tqdm\n",
    "#Вывод на экран текущего времени (час, мин)\n",
    "localtime = time.localtime(time.time())\n",
    "print (\"Local current time :\", localtime[3:5])\n",
    "#Ссылкы на первую страницу выдачи при поиске\n",
    "#квартир из определенного района при поиске квартир из ЦАО\n",
    "\n",
    "mln_boarders=[]\n",
    "for mln_price in range(1,50,1):\n",
    "    mln_boarders.append(mln_price*1000000)\n",
    "    \n",
    "dist_list =[]\n",
    "dist_list_show=[]\n",
    "min_boarder=0\n",
    "for boarder in mln_boarders:\n",
    "    a = 'https://www.cian.ru/cat.php?currency=2&deal_type=sale&engine_version=2'\n",
    "    b = '&maxprice=' + str(boarder)\n",
    "    c = '&minprice=' + str(min_boarder+1)\n",
    "    d = '&offer_type=flat&'\n",
    "    e = 'p={}'\n",
    "    f = '&region=1&room1=1&room2=1&room3=1&room4=1&room5=1&room6=1&room7=1&room9=1'\n",
    "    dist_list_show.append(' from ' + str(min_boarder/1000000) + ' to ' + str(boarder/1000000)+' mln')\n",
    "    min_boarder = boarder\n",
    "    abcdef = a + b + c + d + e + f\n",
    "    #print(abcdef)\n",
    "    dist_list.append(abcdef)\n",
    "#print(dist_list)\n",
    "#dist_list=[cent]\n",
    "#X - будущий большой датасет со всеми квартирами и фичами\n",
    "N=30 #число страниц, по которым мы бегаем, ища\n",
    "X=[]#all data\n",
    "#Цикл по всем районам. Номер района в цикле это и есть номер,\n",
    "#под которым этот районом будет закодирован в конечном датасете\n",
    "ID=0 #номер квартиры в датасете\n",
    "for distN in tqdm(range( len(dist_list) )):\n",
    "    #print(dist_list_show[distN])\n",
    "    time1 = time.localtime(time.time())\n",
    "    #print (\"Local current time :\", time1[3:5])\n",
    "    #по главной ссылке находим номера страниц каждой из квартир\n",
    "    #например, на нулевой итерации links - список уникальных номеров всех\n",
    "    #квартир из ЦАО\n",
    "    links=distr.links( dist_list[distN],N )\n",
    "    #пробегаем во всем квартирам в округе\n",
    "    for link in tqdm(links):\n",
    "        #print(link)        \n",
    "        #словарь из фич для данной квартиры\n",
    "        ind_data_dic=get_data_dic.get_data_dic (link)\n",
    "        #добавляем поле District, которое зависит от района\n",
    "        ind_data_dic['Search_group']=dist_list_show[distN]\n",
    "        ind_data_dic['ID']=ID\n",
    "        ind_data_dic['Link']='http://www.cian.ru/sale/flat/' + str(link) + '/'\n",
    "        ID+=1\n",
    "        #добавляем словарь фич для квартиры в итоговый датасет    \n",
    "        X.append(ind_data_dic)\n",
    "    #print(\"preparing data\")\n",
    "    data=pd.DataFrame(X)\n",
    "    \n",
    "    #print (time.strftime(\"%H_%M_%S\"))\n",
    "    #print (time.strftime(\"%d_%m_%Y\"))\n",
    "    data.to_csv(\"output\\data\" +time.strftime(\"%d_%m_%Y\")+'__'+ time.strftime(\"%H_%M_%S\") + \".csv\",sep=';')\n",
    "data.to_csv(\"output\\FINAL_data\" +time.strftime(\"%d_%m_%Y\")+'__'+ time.strftime(\"%H_%M_%S\") + \".csv\",sep=';')\n",
    "print('Done')"
   ]
  },
  {
   "cell_type": "code",
   "execution_count": null,
   "metadata": {
    "collapsed": true
   },
   "outputs": [],
   "source": []
  },
  {
   "cell_type": "code",
   "execution_count": 6,
   "metadata": {
    "collapsed": false
   },
   "outputs": [
    {
     "data": {
      "text/html": [
       "<div>\n",
       "<table border=\"1\" class=\"dataframe\">\n",
       "  <thead>\n",
       "    <tr style=\"text-align: right;\">\n",
       "      <th></th>\n",
       "      <th>dist</th>\n",
       "      <th>is_premium</th>\n",
       "      <th>lat</th>\n",
       "      <th>lon</th>\n",
       "      <th>publication_date</th>\n",
       "      <th>rooms</th>\n",
       "      <th>sale</th>\n",
       "    </tr>\n",
       "  </thead>\n",
       "  <tbody>\n",
       "    <tr>\n",
       "      <th>0</th>\n",
       "      <td>4.748564</td>\n",
       "      <td>false,</td>\n",
       "      <td>55.724636</td>\n",
       "      <td>37.581748</td>\n",
       "      <td>1483786642</td>\n",
       "      <td>3</td>\n",
       "      <td>\"sale\",</td>\n",
       "    </tr>\n",
       "    <tr>\n",
       "      <th>1</th>\n",
       "      <td>6.945398</td>\n",
       "      <td>false,</td>\n",
       "      <td>55.859261</td>\n",
       "      <td>37.602058</td>\n",
       "      <td>1483812362</td>\n",
       "      <td>1</td>\n",
       "      <td>\"sale\",</td>\n",
       "    </tr>\n",
       "  </tbody>\n",
       "</table>\n",
       "</div>"
      ],
      "text/plain": [
       "       dist is_premium        lat        lon publication_date rooms      sale\n",
       "0  4.748564    false,   55.724636  37.581748       1483786642     3  \"sale\", \n",
       "1  6.945398    false,   55.859261  37.602058       1483812362     1  \"sale\", "
      ]
     },
     "execution_count": 6,
     "metadata": {},
     "output_type": "execute_result"
    }
   ],
   "source": [
    "#data[['Balcony', 'Built_year', 'Description', 'Floor', 'Home_type', 'ID']]\n",
    "#data[['Kitsp', 'Lift', 'Link', 'Livesp', 'Metro_station', 'Metro_time']]\n",
    "#data[['Nfloor', 'Parking', 'Price', 'Remont', 'Roof_hight', 'Sales_type']]\n",
    "#data[['Sdacha_GK', 'Search', 'Tel', 'Totsp', 'View', 'WC', 'Walk_metro']]\n",
    "data[['dist', 'is_premium', 'lat', 'lon', 'publication_date', 'rooms','sale']]"
   ]
  },
  {
   "cell_type": "code",
   "execution_count": 1,
   "metadata": {
    "collapsed": false
   },
   "outputs": [],
   "source": [
    "def heat_map(x,y):\n",
    "    import numpy as np\n",
    "    import matplotlib.pyplot as plt\n",
    "    heatmap, xedges, yedges = np.histogram2d(x, y, bins=200)\n",
    "    extent = [xedges[0], xedges[-1], yedges[0], yedges[-1]]\n",
    "    plt.clf()\n",
    "    #plt.figure(figsize=(10,5))\n",
    "    plt.imshow(heatmap.T, extent=extent, origin='lower')\n",
    "    plt.show()\n"
   ]
  }
 ],
 "metadata": {
  "anaconda-cloud": {},
  "kernelspec": {
   "display_name": "Python [conda root]",
   "language": "python",
   "name": "conda-root-py"
  },
  "language_info": {
   "codemirror_mode": {
    "name": "ipython",
    "version": 3
   },
   "file_extension": ".py",
   "mimetype": "text/x-python",
   "name": "python",
   "nbconvert_exporter": "python",
   "pygments_lexer": "ipython3",
   "version": "3.5.2"
  }
 },
 "nbformat": 4,
 "nbformat_minor": 1
}
