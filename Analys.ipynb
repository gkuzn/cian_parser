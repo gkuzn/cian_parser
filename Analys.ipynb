{
 "cells": [
  {
   "cell_type": "code",
   "execution_count": 1,
   "metadata": {
    "collapsed": true
   },
   "outputs": [],
   "source": [
    "import pandas as pd\n",
    "import numpy as np\n",
    "import matplotlib.pyplot as plt\n",
    "from tqdm import tqdm\n",
    "from sklearn import preprocessing\n",
    "from sklearn.model_selection import train_test_split\n",
    "#from sklearn.ensemble import RandomForestClassifier\n",
    "from sklearn.ensemble import GradientBoostingRegressor\n",
    "from sklearn.metrics import mean_absolute_error\n",
    "import xgboost as xgb"
   ]
  },
  {
   "cell_type": "code",
   "execution_count": 2,
   "metadata": {
    "collapsed": false
   },
   "outputs": [
    {
     "name": "stderr",
     "output_type": "stream",
     "text": [
      "100%|████████████████████████████████████████████████████████████████████████████████████| 7/7 [00:04<00:00,  1.74it/s]\n"
     ]
    }
   ],
   "source": [
    "big_files_path = 'output/big_files/'\n",
    "parsed_files_list =[ 'data29_01_2017__21_29_12ADD.csv',\n",
    "                   'data30_01_2017__00_04_43ADD.csv',\n",
    "                         'FINAL_data30_01_2017__06_33_11ADD.csv',\n",
    "                          'data30_01_2017__14_35_18ADD.csv',\n",
    "                         'data30_01_2017__21_36_42ADD.csv',\n",
    "                         'data31_01_2017__19_17_49ADD.csv',\n",
    "                   'FINAL_data01_02_2017__07_45_01ADD.csv']\n",
    "parsed_df = []\n",
    "for parsed_file in tqdm(parsed_files_list):\n",
    "    #print(parsed_file)\n",
    "    df1 = pd.read_csv(big_files_path + parsed_file,sep=';',encoding='cp1251')\n",
    "    \n",
    "    if len(parsed_df)!=0:\n",
    "        parsed_df = pd.concat([parsed_df,df1])\n",
    "    else:\n",
    "        parsed_df = df1.copy()\n",
    "df = parsed_df.iloc[np.random.permutation(len(parsed_df))]\n",
    "df = df.reset_index(drop=True)"
   ]
  },
  {
   "cell_type": "code",
   "execution_count": 3,
   "metadata": {
    "collapsed": false
   },
   "outputs": [
    {
     "data": {
      "text/plain": [
       "Index(['Unnamed: 0', 'Address', 'Balcony', 'Built_year', 'Description',\n",
       "       'Floor', 'Home_type', 'ID', 'Kitsp', 'Lift', 'Link', 'Livesp',\n",
       "       'Metro_station', 'Metro_time', 'Nfloor', 'Parking', 'Price', 'Remont',\n",
       "       'Roof_hight', 'Sales_type', 'Sdacha_GK', 'Search_group', 'Tel', 'Totsp',\n",
       "       'View', 'WC', 'Walk_metro', 'dist', 'is_premium', 'lat', 'lon',\n",
       "       'parsing_date', 'publication_date', 'rooms', 'sale'],\n",
       "      dtype='object')"
      ]
     },
     "execution_count": 3,
     "metadata": {},
     "output_type": "execute_result"
    }
   ],
   "source": [
    "df.columns"
   ]
  },
  {
   "cell_type": "code",
   "execution_count": 9,
   "metadata": {
    "collapsed": false
   },
   "outputs": [
    {
     "data": {
      "text/plain": [
       "False"
      ]
     },
     "execution_count": 9,
     "metadata": {},
     "output_type": "execute_result"
    }
   ],
   "source": [
    "for publication_date list(df['publication_date'].unique()):\n",
    "    if 'span' in publication_date:\n",
    "        "
   ]
  },
  {
   "cell_type": "code",
   "execution_count": 122,
   "metadata": {
    "collapsed": true
   },
   "outputs": [],
   "source": [
    "from datetime import datetime\n",
    "def to_time(a):\n",
    "    if ('span' in a)|(a=='0'):\n",
    "        b = None\n",
    "    else:\n",
    "        #print(a)\n",
    "        b =  datetime.fromtimestamp( float(a)).hour #+datetime.fromtimestamp( float(a)).minute/60\n",
    "    return b"
   ]
  },
  {
   "cell_type": "code",
   "execution_count": 124,
   "metadata": {
    "collapsed": false
   },
   "outputs": [],
   "source": [
    "df['publication_date_time'] = list(map(to_time,list(df['publication_date']) ))"
   ]
  },
  {
   "cell_type": "code",
   "execution_count": 120,
   "metadata": {
    "collapsed": true
   },
   "outputs": [],
   "source": [
    "filt = (df['Price'].notnull())  & (df['publication_date_time'].notnull())& (df['Price']<100e6)"
   ]
  },
  {
   "cell_type": "code",
   "execution_count": 95,
   "metadata": {
    "collapsed": false
   },
   "outputs": [
    {
     "data": {
      "text/plain": [
       "0.0"
      ]
     },
     "execution_count": 95,
     "metadata": {},
     "output_type": "execute_result"
    }
   ],
   "source": [
    "df['publication_date_time'].iloc[0]"
   ]
  },
  {
   "cell_type": "code",
   "execution_count": 96,
   "metadata": {
    "collapsed": false,
    "scrolled": true
   },
   "outputs": [
    {
     "data": {
      "image/png": "[encoded data removed]",
      "text/plain": [
       "<matplotlib.figure.Figure at 0x23e811f1eb8>"
      ]
     },
     "metadata": {},
     "output_type": "display_data"
    }
   ],
   "source": [
    "plt.scatter(df[filt]['publication_date_time'],df[filt]['Price'])\n",
    "plt.show()"
   ]
  },
  {
   "cell_type": "code",
   "execution_count": 125,
   "metadata": {
    "collapsed": false
   },
   "outputs": [
    {
     "data": {
      "image/png": "[encoded data removed]",
      "text/plain": [
       "<matplotlib.figure.Figure at 0x23e8213cd68>"
      ]
     },
     "metadata": {},
     "output_type": "display_data"
    }
   ],
   "source": [
    "heat_map(list(df[filt]['publication_date_time']),np.array(df[filt]['Price'])/1e7)"
   ]
  },
  {
   "cell_type": "code",
   "execution_count": 145,
   "metadata": {
    "collapsed": true
   },
   "outputs": [
    {
     "data": {
      "image/png": "[encoded data removed]",
      "text/plain": [
       "<matplotlib.figure.Figure at 0x23e93141c88>"
      ]
     },
     "metadata": {},
     "output_type": "display_data"
    }
   ],
   "source": [
    "out_filt = df['Price']<50e6\n",
    "for hour in range(24):\n",
    "    plt.hist(df[df['publication_date_time']==hour&out_filt]['Price'],alpha=0.3,normed=True)\n",
    "plt.show()"
   ]
  },
  {
   "cell_type": "code",
   "execution_count": 150,
   "metadata": {
    "collapsed": false
   },
   "outputs": [
    {
     "data": {
      "text/html": [
       "<div>\n",
       "<table border=\"1\" class=\"dataframe\">\n",
       "  <thead>\n",
       "    <tr style=\"text-align: right;\">\n",
       "      <th></th>\n",
       "      <th>publication_date_time</th>\n",
       "      <th>publication_date</th>\n",
       "      <th>Link</th>\n",
       "      <th>Price</th>\n",
       "      <th>Address</th>\n",
       "    </tr>\n",
       "  </thead>\n",
       "  <tbody>\n",
       "    <tr>\n",
       "      <th>84408</th>\n",
       "      <td>20.0</td>\n",
       "      <td>1471454488</td>\n",
       "      <td>http://www.cian.ru/sale/flat/148983379/</td>\n",
       "      <td>6800000</td>\n",
       "      <td>Москва, район Царицыно, Ереванская ул., 31</td>\n",
       "    </tr>\n",
       "    <tr>\n",
       "      <th>84409</th>\n",
       "      <td>11.0</td>\n",
       "      <td>1477297269</td>\n",
       "      <td>http://www.cian.ru/sale/flat/150640171/</td>\n",
       "      <td>24244706</td>\n",
       "      <td>Москва, район Бабушкинский, ул. Искры, 3</td>\n",
       "    </tr>\n",
       "    <tr>\n",
       "      <th>84410</th>\n",
       "      <td>23.0</td>\n",
       "      <td>1480709239</td>\n",
       "      <td>http://www.cian.ru/sale/flat/151848778/</td>\n",
       "      <td>14000000</td>\n",
       "      <td>Москва, район Строгино, ул. Исаковского, 4К2</td>\n",
       "    </tr>\n",
       "    <tr>\n",
       "      <th>84411</th>\n",
       "      <td>17.0</td>\n",
       "      <td>1484058271</td>\n",
       "      <td>http://www.cian.ru/sale/flat/152684221/</td>\n",
       "      <td>12600000</td>\n",
       "      <td>Москва, район Басманный, Нижняя Красносельска...</td>\n",
       "    </tr>\n",
       "    <tr>\n",
       "      <th>84412</th>\n",
       "      <td>20.0</td>\n",
       "      <td>1484759006</td>\n",
       "      <td>http://www.cian.ru/sale/flat/152967585/</td>\n",
       "      <td>5300000</td>\n",
       "      <td>Москва, Внуковское поселение, район Внуковско...</td>\n",
       "    </tr>\n",
       "  </tbody>\n",
       "</table>\n",
       "</div>"
      ],
      "text/plain": [
       "       publication_date_time publication_date  \\\n",
       "84408                   20.0       1471454488   \n",
       "84409                   11.0       1477297269   \n",
       "84410                   23.0       1480709239   \n",
       "84411                   17.0       1484058271   \n",
       "84412                   20.0       1484759006   \n",
       "\n",
       "                                          Link     Price  \\\n",
       "84408  http://www.cian.ru/sale/flat/148983379/   6800000   \n",
       "84409  http://www.cian.ru/sale/flat/150640171/  24244706   \n",
       "84410  http://www.cian.ru/sale/flat/151848778/  14000000   \n",
       "84411  http://www.cian.ru/sale/flat/152684221/  12600000   \n",
       "84412  http://www.cian.ru/sale/flat/152967585/   5300000   \n",
       "\n",
       "                                                 Address  \n",
       "84408        Москва, район Царицыно, Ереванская ул., 31   \n",
       "84409          Москва, район Бабушкинский, ул. Искры, 3   \n",
       "84410      Москва, район Строгино, ул. Исаковского, 4К2   \n",
       "84411   Москва, район Басманный, Нижняя Красносельска...  \n",
       "84412   Москва, Внуковское поселение, район Внуковско...  "
      ]
     },
     "execution_count": 150,
     "metadata": {},
     "output_type": "execute_result"
    }
   ],
   "source": [
    "df[['publication_date_time','publication_date','Link','Price','Address']].tail()"
   ]
  },
  {
   "cell_type": "code",
   "execution_count": 103,
   "metadata": {
    "collapsed": true
   },
   "outputs": [
    {
     "data": {
      "text/plain": [
       "[0.0,\n",
       " 22.0,\n",
       " 22.0,\n",
       " 14.0,\n",
       " 19.0,\n",
       " 0.0,\n",
       " 21.0,\n",
       " 9.0,\n",
       " 11.0,\n",
       " 12.0,\n",
       " 21.0,\n",
       " 10.0,\n",
       " 20.0,\n",
       " 1.0,\n",
       " 20.0,\n",
       " 13.0,\n",
       " 16.0,\n",
       " 14.0,\n",
       " 16.0,\n",
       " 10.0,\n",
       " 14.0,\n",
       " 11.0,\n",
       " 20.0,\n",
       " 9.0,\n",
       " 21.0,\n",
       " 20.0,\n",
       " 18.0,\n",
       " 17.0,\n",
       " 15.0,\n",
       " 18.0,\n",
       " 15.0,\n",
       " 14.0,\n",
       " 16.0,\n",
       " 12.0,\n",
       " 8.0,\n",
       " 15.0,\n",
       " 23.0,\n",
       " 2.0,\n",
       " 20.0,\n",
       " 16.0,\n",
       " 15.0,\n",
       " 12.0,\n",
       " 11.0,\n",
       " 21.0,\n",
       " 20.0,\n",
       " 12.0,\n",
       " 18.0,\n",
       " 13.0,\n",
       " 14.0,\n",
       " 20.0,\n",
       " 17.0,\n",
       " 14.0,\n",
       " 11.0,\n",
       " 11.0,\n",
       " 15.0,\n",
       " 19.0,\n",
       " 11.0,\n",
       " 18.0,\n",
       " 14.0,\n",
       " 13.0,\n",
       " 10.0,\n",
       " 16.0,\n",
       " 0.0,\n",
       " 16.0,\n",
       " 19.0,\n",
       " 20.0,\n",
       " 22.0,\n",
       " 16.0,\n",
       " 12.0,\n",
       " 22.0,\n",
       " 17.0,\n",
       " 17.0,\n",
       " 16.0,\n",
       " 7.0,\n",
       " 15.0,\n",
       " 12.0,\n",
       " 17.0,\n",
       " 22.0,\n",
       " 15.0,\n",
       " 11.0,\n",
       " 12.0,\n",
       " 20.0,\n",
       " 17.0,\n",
       " 20.0,\n",
       " 15.0,\n",
       " 11.0,\n",
       " 10.0,\n",
       " 12.0,\n",
       " 16.0,\n",
       " 14.0,\n",
       " 11.0,\n",
       " 15.0,\n",
       " 11.0,\n",
       " 13.0,\n",
       " 12.0,\n",
       " 14.0,\n",
       " 10.0,\n",
       " 13.0,\n",
       " 17.0,\n",
       " 17.0,\n",
       " 16.0,\n",
       " 11.0,\n",
       " 23.0,\n",
       " 21.0,\n",
       " 0.0,\n",
       " 22.0,\n",
       " 7.0,\n",
       " 17.0,\n",
       " 18.0,\n",
       " 13.0,\n",
       " 12.0,\n",
       " 13.0,\n",
       " 13.0,\n",
       " 17.0,\n",
       " 12.0,\n",
       " 14.0,\n",
       " 16.0,\n",
       " 12.0,\n",
       " 19.0,\n",
       " 16.0,\n",
       " 12.0,\n",
       " 2.0,\n",
       " 23.0,\n",
       " 23.0,\n",
       " 8.0,\n",
       " 19.0,\n",
       " 16.0,\n",
       " 12.0,\n",
       " 14.0,\n",
       " 0.0,\n",
       " 18.0,\n",
       " 21.0,\n",
       " 17.0,\n",
       " 16.0,\n",
       " 14.0,\n",
       " 15.0,\n",
       " 14.0,\n",
       " 15.0,\n",
       " 18.0,\n",
       " 14.0,\n",
       " 15.0,\n",
       " 12.0,\n",
       " 10.0,\n",
       " 17.0,\n",
       " 0.0,\n",
       " 12.0,\n",
       " 18.0,\n",
       " 19.0,\n",
       " 15.0,\n",
       " 22.0,\n",
       " 13.0,\n",
       " 23.0,\n",
       " 8.0,\n",
       " 7.0,\n",
       " 21.0,\n",
       " 11.0,\n",
       " 18.0,\n",
       " 14.0,\n",
       " 12.0,\n",
       " 18.0,\n",
       " 18.0,\n",
       " 18.0,\n",
       " 9.0,\n",
       " 2.0,\n",
       " 3.0,\n",
       " 13.0,\n",
       " 19.0,\n",
       " 11.0,\n",
       " 12.0,\n",
       " 20.0,\n",
       " 13.0,\n",
       " 13.0,\n",
       " 13.0,\n",
       " 19.0,\n",
       " 23.0,\n",
       " 11.0,\n",
       " 13.0,\n",
       " 12.0,\n",
       " 21.0,\n",
       " 16.0,\n",
       " 16.0,\n",
       " 13.0,\n",
       " 16.0,\n",
       " 14.0,\n",
       " 19.0,\n",
       " 16.0,\n",
       " 10.0,\n",
       " 16.0,\n",
       " 18.0,\n",
       " 17.0,\n",
       " 20.0,\n",
       " 1.0,\n",
       " 17.0,\n",
       " 2.0,\n",
       " 2.0,\n",
       " 14.0,\n",
       " 15.0,\n",
       " 23.0,\n",
       " 14.0,\n",
       " 23.0,\n",
       " 10.0,\n",
       " 16.0,\n",
       " 16.0,\n",
       " 4.0,\n",
       " 22.0,\n",
       " 13.0,\n",
       " 16.0,\n",
       " 12.0,\n",
       " 14.0,\n",
       " 16.0,\n",
       " 16.0,\n",
       " 11.0,\n",
       " 15.0,\n",
       " 12.0,\n",
       " 17.0,\n",
       " 17.0,\n",
       " 13.0,\n",
       " 10.0,\n",
       " 14.0,\n",
       " 8.0,\n",
       " 13.0,\n",
       " 14.0,\n",
       " 16.0,\n",
       " 15.0,\n",
       " 16.0,\n",
       " 16.0,\n",
       " 18.0,\n",
       " 15.0,\n",
       " 20.0,\n",
       " 14.0,\n",
       " 15.0,\n",
       " 15.0,\n",
       " 0.0,\n",
       " 13.0,\n",
       " 12.0,\n",
       " 15.0,\n",
       " 3.0,\n",
       " 16.0,\n",
       " 15.0,\n",
       " 22.0,\n",
       " 15.0,\n",
       " 17.0,\n",
       " 15.0,\n",
       " 12.0,\n",
       " 11.0,\n",
       " 15.0,\n",
       " 18.0,\n",
       " 11.0,\n",
       " 10.0,\n",
       " 20.0,\n",
       " 21.0,\n",
       " 18.0,\n",
       " 11.0,\n",
       " 14.0,\n",
       " 7.0,\n",
       " 15.0,\n",
       " 10.0,\n",
       " 14.0,\n",
       " 19.0,\n",
       " 14.0,\n",
       " 20.0,\n",
       " 1.0,\n",
       " 0.0,\n",
       " 12.0,\n",
       " 13.0,\n",
       " 23.0,\n",
       " 12.0,\n",
       " 16.0,\n",
       " 16.0,\n",
       " 11.0,\n",
       " 18.0,\n",
       " 23.0,\n",
       " 9.0,\n",
       " 21.0,\n",
       " 14.0,\n",
       " 12.0,\n",
       " 17.0,\n",
       " 11.0,\n",
       " 15.0,\n",
       " 23.0,\n",
       " 19.0,\n",
       " 16.0,\n",
       " 10.0,\n",
       " 14.0,\n",
       " 16.0,\n",
       " 14.0,\n",
       " 6.0,\n",
       " 13.0,\n",
       " 6.0,\n",
       " 18.0,\n",
       " 17.0,\n",
       " 9.0,\n",
       " 11.0,\n",
       " 14.0,\n",
       " 18.0,\n",
       " 16.0,\n",
       " 14.0,\n",
       " 11.0,\n",
       " 19.0,\n",
       " 15.0,\n",
       " 16.0,\n",
       " 19.0,\n",
       " 18.0,\n",
       " 20.0,\n",
       " 12.0,\n",
       " 18.0,\n",
       " 14.0,\n",
       " 19.0,\n",
       " 15.0,\n",
       " 12.0,\n",
       " 12.0,\n",
       " 23.0,\n",
       " 15.0,\n",
       " 12.0,\n",
       " 14.0,\n",
       " 17.0,\n",
       " 23.0,\n",
       " 21.0,\n",
       " 19.0,\n",
       " 11.0,\n",
       " 16.0,\n",
       " 15.0,\n",
       " 8.0,\n",
       " 15.0,\n",
       " 15.0,\n",
       " 10.0,\n",
       " 6.0,\n",
       " 2.0,\n",
       " 16.0,\n",
       " 15.0,\n",
       " 18.0,\n",
       " 19.0,\n",
       " 11.0,\n",
       " 19.0,\n",
       " 16.0,\n",
       " 13.0,\n",
       " 18.0,\n",
       " 17.0,\n",
       " 0.0,\n",
       " 16.0,\n",
       " 11.0,\n",
       " 7.0,\n",
       " 14.0,\n",
       " 12.0,\n",
       " 8.0,\n",
       " 20.0,\n",
       " 20.0,\n",
       " 13.0,\n",
       " 16.0,\n",
       " 15.0,\n",
       " 20.0,\n",
       " 5.0,\n",
       " 12.0,\n",
       " 8.0,\n",
       " 14.0,\n",
       " 13.0,\n",
       " 15.0,\n",
       " 18.0,\n",
       " 19.0,\n",
       " 17.0,\n",
       " 18.0,\n",
       " 11.0,\n",
       " 7.0,\n",
       " 23.0,\n",
       " 22.0,\n",
       " 17.0,\n",
       " 0.0,\n",
       " 19.0,\n",
       " 20.0,\n",
       " 18.0,\n",
       " 21.0,\n",
       " 18.0,\n",
       " 7.0,\n",
       " 15.0,\n",
       " 17.0,\n",
       " 13.0,\n",
       " 23.0,\n",
       " 15.0,\n",
       " 14.0,\n",
       " 14.0,\n",
       " 21.0,\n",
       " 16.0,\n",
       " 12.0,\n",
       " 21.0,\n",
       " 6.0,\n",
       " 18.0,\n",
       " 21.0,\n",
       " 20.0,\n",
       " 21.0,\n",
       " 11.0,\n",
       " 9.0,\n",
       " 19.0,\n",
       " 10.0,\n",
       " 14.0,\n",
       " 9.0,\n",
       " 18.0,\n",
       " 17.0,\n",
       " 18.0,\n",
       " 15.0,\n",
       " 1.0,\n",
       " 12.0,\n",
       " 10.0,\n",
       " 1.0,\n",
       " 8.0,\n",
       " 15.0,\n",
       " 16.0,\n",
       " 15.0,\n",
       " 18.0,\n",
       " 16.0,\n",
       " 14.0,\n",
       " 12.0,\n",
       " 20.0,\n",
       " 19.0,\n",
       " 17.0,\n",
       " 18.0,\n",
       " 0.0,\n",
       " 2.0,\n",
       " 11.0,\n",
       " 18.0,\n",
       " 0.0,\n",
       " 17.0,\n",
       " 17.0,\n",
       " 21.0,\n",
       " 17.0,\n",
       " 14.0,\n",
       " 16.0,\n",
       " 6.0,\n",
       " 1.0,\n",
       " 10.0,\n",
       " 21.0,\n",
       " 20.0,\n",
       " 13.0,\n",
       " 20.0,\n",
       " 14.0,\n",
       " 15.0,\n",
       " 10.0,\n",
       " 13.0,\n",
       " 23.0,\n",
       " 0.0,\n",
       " 14.0,\n",
       " 10.0,\n",
       " 9.0,\n",
       " 12.0,\n",
       " 20.0,\n",
       " 20.0,\n",
       " 14.0,\n",
       " 9.0,\n",
       " 16.0,\n",
       " 12.0,\n",
       " 17.0,\n",
       " 12.0,\n",
       " 11.0,\n",
       " 14.0,\n",
       " 21.0,\n",
       " 1.0,\n",
       " 14.0,\n",
       " 16.0,\n",
       " 14.0,\n",
       " 8.0,\n",
       " 18.0,\n",
       " 21.0,\n",
       " 13.0,\n",
       " 10.0,\n",
       " 11.0,\n",
       " 16.0,\n",
       " 15.0,\n",
       " 15.0,\n",
       " 16.0,\n",
       " 11.0,\n",
       " 15.0,\n",
       " 16.0,\n",
       " 13.0,\n",
       " 15.0,\n",
       " 13.0,\n",
       " 16.0,\n",
       " 13.0,\n",
       " 14.0,\n",
       " 17.0,\n",
       " 20.0,\n",
       " 14.0,\n",
       " 15.0,\n",
       " 16.0,\n",
       " 10.0,\n",
       " 12.0,\n",
       " 11.0,\n",
       " 11.0,\n",
       " 8.0,\n",
       " 10.0,\n",
       " 21.0,\n",
       " 16.0,\n",
       " 20.0,\n",
       " 17.0,\n",
       " 9.0,\n",
       " 14.0,\n",
       " 17.0,\n",
       " 17.0,\n",
       " 15.0,\n",
       " 10.0,\n",
       " 17.0,\n",
       " 13.0,\n",
       " 11.0,\n",
       " 5.0,\n",
       " 15.0,\n",
       " 15.0,\n",
       " 16.0,\n",
       " 16.0,\n",
       " 6.0,\n",
       " 18.0,\n",
       " 19.0,\n",
       " 19.0,\n",
       " 15.0,\n",
       " 20.0,\n",
       " 22.0,\n",
       " 13.0,\n",
       " 19.0,\n",
       " 19.0,\n",
       " 15.0,\n",
       " 14.0,\n",
       " 11.0,\n",
       " 20.0,\n",
       " 20.0,\n",
       " 11.0,\n",
       " 11.0,\n",
       " 0.0,\n",
       " 19.0,\n",
       " 14.0,\n",
       " 11.0,\n",
       " 11.0,\n",
       " 11.0,\n",
       " 14.0,\n",
       " 2.0,\n",
       " 16.0,\n",
       " 12.0,\n",
       " 13.0,\n",
       " 12.0,\n",
       " 0.0,\n",
       " 21.0,\n",
       " 22.0,\n",
       " 19.0,\n",
       " 12.0,\n",
       " 16.0,\n",
       " 16.0,\n",
       " 23.0,\n",
       " 16.0,\n",
       " 15.0,\n",
       " 18.0,\n",
       " 23.0,\n",
       " 17.0,\n",
       " 22.0,\n",
       " 19.0,\n",
       " 23.0,\n",
       " 8.0,\n",
       " 13.0,\n",
       " 17.0,\n",
       " 2.0,\n",
       " 9.0,\n",
       " 18.0,\n",
       " 0.0,\n",
       " 14.0,\n",
       " 10.0,\n",
       " 9.0,\n",
       " 20.0,\n",
       " 15.0,\n",
       " 1.0,\n",
       " 11.0,\n",
       " 11.0,\n",
       " 19.0,\n",
       " 12.0,\n",
       " 12.0,\n",
       " 21.0,\n",
       " 20.0,\n",
       " 11.0,\n",
       " 6.0,\n",
       " 19.0,\n",
       " 13.0,\n",
       " 20.0,\n",
       " 11.0,\n",
       " 20.0,\n",
       " 12.0,\n",
       " 21.0,\n",
       " 7.0,\n",
       " 17.0,\n",
       " 18.0,\n",
       " 15.0,\n",
       " 16.0,\n",
       " 12.0,\n",
       " 22.0,\n",
       " 14.0,\n",
       " 1.0,\n",
       " 22.0,\n",
       " 16.0,\n",
       " 17.0,\n",
       " 16.0,\n",
       " 14.0,\n",
       " 23.0,\n",
       " 19.0,\n",
       " 11.0,\n",
       " 10.0,\n",
       " 13.0,\n",
       " 17.0,\n",
       " 9.0,\n",
       " 13.0,\n",
       " 23.0,\n",
       " 14.0,\n",
       " 12.0,\n",
       " 18.0,\n",
       " 7.0,\n",
       " 10.0,\n",
       " 19.0,\n",
       " 14.0,\n",
       " 18.0,\n",
       " 14.0,\n",
       " 13.0,\n",
       " 11.0,\n",
       " 16.0,\n",
       " 16.0,\n",
       " 14.0,\n",
       " 14.0,\n",
       " 21.0,\n",
       " 15.0,\n",
       " 11.0,\n",
       " 19.0,\n",
       " 0.0,\n",
       " 12.0,\n",
       " 18.0,\n",
       " 13.0,\n",
       " 19.0,\n",
       " 12.0,\n",
       " 10.0,\n",
       " 18.0,\n",
       " 15.0,\n",
       " 14.0,\n",
       " 14.0,\n",
       " 19.0,\n",
       " 13.0,\n",
       " 10.0,\n",
       " 2.0,\n",
       " 11.0,\n",
       " 17.0,\n",
       " 12.0,\n",
       " 20.0,\n",
       " 23.0,\n",
       " 16.0,\n",
       " 23.0,\n",
       " 16.0,\n",
       " 18.0,\n",
       " 13.0,\n",
       " 16.0,\n",
       " 14.0,\n",
       " 11.0,\n",
       " 14.0,\n",
       " 9.0,\n",
       " 14.0,\n",
       " 9.0,\n",
       " 15.0,\n",
       " 17.0,\n",
       " 16.0,\n",
       " 12.0,\n",
       " 9.0,\n",
       " 17.0,\n",
       " 20.0,\n",
       " 15.0,\n",
       " 20.0,\n",
       " 20.0,\n",
       " 20.0,\n",
       " 13.0,\n",
       " 19.0,\n",
       " 11.0,\n",
       " 18.0,\n",
       " 11.0,\n",
       " 17.0,\n",
       " 21.0,\n",
       " 0.0,\n",
       " 22.0,\n",
       " 12.0,\n",
       " 16.0,\n",
       " 20.0,\n",
       " 23.0,\n",
       " 12.0,\n",
       " 12.0,\n",
       " 7.0,\n",
       " 16.0,\n",
       " 17.0,\n",
       " 11.0,\n",
       " 22.0,\n",
       " 12.0,\n",
       " 20.0,\n",
       " 17.0,\n",
       " 22.0,\n",
       " 21.0,\n",
       " 15.0,\n",
       " 1.0,\n",
       " 13.0,\n",
       " 14.0,\n",
       " 14.0,\n",
       " 15.0,\n",
       " 18.0,\n",
       " 13.0,\n",
       " 18.0,\n",
       " 20.0,\n",
       " 16.0,\n",
       " 3.0,\n",
       " 17.0,\n",
       " 23.0,\n",
       " 16.0,\n",
       " 19.0,\n",
       " 19.0,\n",
       " 15.0,\n",
       " 12.0,\n",
       " 17.0,\n",
       " 13.0,\n",
       " 22.0,\n",
       " 18.0,\n",
       " 12.0,\n",
       " 9.0,\n",
       " 18.0,\n",
       " 18.0,\n",
       " 13.0,\n",
       " 12.0,\n",
       " 11.0,\n",
       " 14.0,\n",
       " 6.0,\n",
       " 13.0,\n",
       " 12.0,\n",
       " 11.0,\n",
       " 19.0,\n",
       " 12.0,\n",
       " 18.0,\n",
       " 15.0,\n",
       " 3.0,\n",
       " 17.0,\n",
       " 15.0,\n",
       " 14.0,\n",
       " 16.0,\n",
       " 15.0,\n",
       " 19.0,\n",
       " 11.0,\n",
       " 22.0,\n",
       " 15.0,\n",
       " 19.0,\n",
       " 16.0,\n",
       " 3.0,\n",
       " 15.0,\n",
       " 9.0,\n",
       " 15.0,\n",
       " 22.0,\n",
       " 13.0,\n",
       " 13.0,\n",
       " 16.0,\n",
       " 15.0,\n",
       " 18.0,\n",
       " 10.0,\n",
       " 12.0,\n",
       " 10.0,\n",
       " 12.0,\n",
       " 11.0,\n",
       " 13.0,\n",
       " 17.0,\n",
       " 12.0,\n",
       " 15.0,\n",
       " 18.0,\n",
       " 10.0,\n",
       " 19.0,\n",
       " 14.0,\n",
       " 16.0,\n",
       " 18.0,\n",
       " 14.0,\n",
       " 14.0,\n",
       " 14.0,\n",
       " 21.0,\n",
       " 20.0,\n",
       " 23.0,\n",
       " 6.0,\n",
       " 15.0,\n",
       " 15.0,\n",
       " 0.0,\n",
       " 0.0,\n",
       " 20.0,\n",
       " 11.0,\n",
       " 8.0,\n",
       " 1.0,\n",
       " 0.0,\n",
       " 14.0,\n",
       " 0.0,\n",
       " 15.0,\n",
       " 12.0,\n",
       " 11.0,\n",
       " 1.0,\n",
       " 20.0,\n",
       " 14.0,\n",
       " 18.0,\n",
       " 16.0,\n",
       " 20.0,\n",
       " 19.0,\n",
       " 14.0,\n",
       " 8.0,\n",
       " 0.0,\n",
       " 0.0,\n",
       " 18.0,\n",
       " 0.0,\n",
       " 18.0,\n",
       " 18.0,\n",
       " 17.0,\n",
       " 18.0,\n",
       " 16.0,\n",
       " 21.0,\n",
       " 18.0,\n",
       " 14.0,\n",
       " 23.0,\n",
       " 13.0,\n",
       " 17.0,\n",
       " 15.0,\n",
       " 19.0,\n",
       " 16.0,\n",
       " 13.0,\n",
       " 15.0,\n",
       " 22.0,\n",
       " 12.0,\n",
       " 12.0,\n",
       " 14.0,\n",
       " 6.0,\n",
       " 16.0,\n",
       " 13.0,\n",
       " 13.0,\n",
       " 18.0,\n",
       " 19.0,\n",
       " 13.0,\n",
       " 17.0,\n",
       " 17.0,\n",
       " 19.0,\n",
       " 23.0,\n",
       " 0.0,\n",
       " 11.0,\n",
       " 13.0,\n",
       " 15.0,\n",
       " 22.0,\n",
       " 12.0,\n",
       " 11.0,\n",
       " 18.0,\n",
       " 20.0,\n",
       " 12.0,\n",
       " 16.0,\n",
       " 22.0,\n",
       " 20.0,\n",
       " 16.0,\n",
       " 9.0,\n",
       " 16.0,\n",
       " 3.0,\n",
       " 20.0,\n",
       " 7.0,\n",
       " 12.0,\n",
       " 10.0,\n",
       " 15.0,\n",
       " 13.0,\n",
       " 14.0,\n",
       " 23.0,\n",
       " 17.0,\n",
       " 8.0,\n",
       " 7.0,\n",
       " 10.0,\n",
       " 16.0,\n",
       " 19.0,\n",
       " 18.0,\n",
       " 9.0,\n",
       " 20.0,\n",
       " 19.0,\n",
       " 10.0,\n",
       " 20.0,\n",
       " 18.0,\n",
       " 19.0,\n",
       " 0.0,\n",
       " 16.0,\n",
       " 15.0,\n",
       " 15.0,\n",
       " 16.0,\n",
       " 18.0,\n",
       " 15.0,\n",
       " 17.0,\n",
       " 14.0,\n",
       " 10.0,\n",
       " 14.0,\n",
       " 11.0,\n",
       " 15.0,\n",
       " 10.0,\n",
       " 16.0,\n",
       " 1.0,\n",
       " 18.0,\n",
       " 13.0,\n",
       " 11.0,\n",
       " 21.0,\n",
       " 23.0,\n",
       " 16.0,\n",
       " 19.0,\n",
       " 14.0,\n",
       " 17.0,\n",
       " 10.0,\n",
       " 1.0,\n",
       " 18.0,\n",
       " 15.0,\n",
       " 18.0,\n",
       " 14.0,\n",
       " 16.0,\n",
       " 13.0,\n",
       " 22.0,\n",
       " 16.0,\n",
       " 0.0,\n",
       " 9.0,\n",
       " 13.0,\n",
       " 15.0,\n",
       " 12.0,\n",
       " 13.0,\n",
       " 10.0,\n",
       " 18.0,\n",
       " 13.0,\n",
       " 15.0,\n",
       " 16.0,\n",
       " 0.0,\n",
       " 13.0,\n",
       " 14.0,\n",
       " 12.0,\n",
       " 17.0,\n",
       " 20.0,\n",
       " 23.0,\n",
       " 14.0,\n",
       " 12.0,\n",
       " 18.0,\n",
       " 11.0,\n",
       " 15.0,\n",
       " 12.0,\n",
       " 19.0,\n",
       " 18.0,\n",
       " 11.0,\n",
       " 16.0,\n",
       " 13.0,\n",
       " 15.0,\n",
       " 15.0,\n",
       " 16.0,\n",
       " 15.0,\n",
       " 12.0,\n",
       " 14.0,\n",
       " 12.0,\n",
       " 20.0,\n",
       " 16.0,\n",
       " 23.0,\n",
       " 10.0,\n",
       " 21.0,\n",
       " 14.0,\n",
       " 20.0,\n",
       " 20.0,\n",
       " 11.0,\n",
       " 16.0,\n",
       " 23.0,\n",
       " 18.0,\n",
       " 12.0,\n",
       " 13.0,\n",
       " 17.0,\n",
       " 22.0,\n",
       " 15.0,\n",
       " 16.0,\n",
       " 17.0,\n",
       " 17.0,\n",
       " 11.0,\n",
       " 15.0,\n",
       " 23.0,\n",
       " 23.0,\n",
       " 14.0,\n",
       " 20.0,\n",
       " 6.0,\n",
       " 14.0,\n",
       " 15.0,\n",
       " 13.0,\n",
       " 22.0,\n",
       " 21.0,\n",
       " 23.0,\n",
       " 10.0,\n",
       " 16.0,\n",
       " 13.0,\n",
       " 21.0,\n",
       " 12.0,\n",
       " 11.0,\n",
       " 10.0,\n",
       " 15.0,\n",
       " 14.0,\n",
       " 11.0,\n",
       " 13.0,\n",
       " 1.0,\n",
       " 12.0,\n",
       " 15.0,\n",
       " 17.0,\n",
       " 19.0,\n",
       " 20.0,\n",
       " 17.0,\n",
       " 16.0,\n",
       " 15.0,\n",
       " 18.0,\n",
       " 18.0,\n",
       " 15.0,\n",
       " 15.0,\n",
       " 11.0,\n",
       " 17.0,\n",
       " ...]"
      ]
     },
     "execution_count": 103,
     "metadata": {},
     "output_type": "execute_result"
    }
   ],
   "source": [
    "list(df[filt]['publication_date_time'])"
   ]
  },
  {
   "cell_type": "code",
   "execution_count": 100,
   "metadata": {
    "collapsed": false
   },
   "outputs": [
    {
     "data": {
      "text/plain": [
       "0        False\n",
       "1        False\n",
       "2        False\n",
       "3        False\n",
       "4        False\n",
       "6        False\n",
       "7        False\n",
       "8        False\n",
       "9        False\n",
       "10       False\n",
       "11       False\n",
       "12       False\n",
       "13       False\n",
       "14       False\n",
       "15       False\n",
       "16       False\n",
       "18       False\n",
       "19       False\n",
       "22       False\n",
       "23       False\n",
       "24       False\n",
       "26       False\n",
       "27       False\n",
       "28       False\n",
       "29       False\n",
       "30       False\n",
       "31       False\n",
       "32       False\n",
       "35       False\n",
       "36       False\n",
       "         ...  \n",
       "84377    False\n",
       "84378    False\n",
       "84379    False\n",
       "84380    False\n",
       "84381    False\n",
       "84382    False\n",
       "84383    False\n",
       "84384    False\n",
       "84385    False\n",
       "84387    False\n",
       "84389    False\n",
       "84390    False\n",
       "84391    False\n",
       "84392    False\n",
       "84393    False\n",
       "84394    False\n",
       "84395    False\n",
       "84396    False\n",
       "84398    False\n",
       "84399    False\n",
       "84400    False\n",
       "84402    False\n",
       "84403    False\n",
       "84404    False\n",
       "84407    False\n",
       "84408    False\n",
       "84409    False\n",
       "84410    False\n",
       "84411    False\n",
       "84412    False\n",
       "Name: Price, dtype: bool"
      ]
     },
     "execution_count": 100,
     "metadata": {},
     "output_type": "execute_result"
    }
   ],
   "source": [
    "df[filt]['Price'].isnull()"
   ]
  },
  {
   "cell_type": "code",
   "execution_count": 25,
   "metadata": {
    "collapsed": true
   },
   "outputs": [
    {
     "data": {
      "text/plain": [
       "'2017-01-19 00:58:39'"
      ]
     },
     "execution_count": 25,
     "metadata": {},
     "output_type": "execute_result"
    }
   ],
   "source": [
    "d1[3]"
   ]
  },
  {
   "cell_type": "code",
   "execution_count": 54,
   "metadata": {
    "collapsed": false
   },
   "outputs": [
    {
     "data": {
      "text/plain": [
       "0        False\n",
       "1        False\n",
       "2        False\n",
       "3        False\n",
       "4        False\n",
       "5         True\n",
       "6        False\n",
       "7        False\n",
       "8        False\n",
       "9        False\n",
       "10       False\n",
       "11       False\n",
       "12       False\n",
       "13       False\n",
       "14       False\n",
       "15       False\n",
       "16       False\n",
       "17        True\n",
       "18       False\n",
       "19       False\n",
       "20        True\n",
       "21        True\n",
       "22       False\n",
       "23       False\n",
       "24       False\n",
       "25        True\n",
       "26       False\n",
       "27       False\n",
       "28       False\n",
       "29       False\n",
       "         ...  \n",
       "84383    False\n",
       "84384    False\n",
       "84385    False\n",
       "84386     True\n",
       "84387    False\n",
       "84388     True\n",
       "84389    False\n",
       "84390    False\n",
       "84391    False\n",
       "84392    False\n",
       "84393    False\n",
       "84394    False\n",
       "84395    False\n",
       "84396    False\n",
       "84397     True\n",
       "84398    False\n",
       "84399    False\n",
       "84400    False\n",
       "84401     True\n",
       "84402    False\n",
       "84403    False\n",
       "84404    False\n",
       "84405     True\n",
       "84406     True\n",
       "84407    False\n",
       "84408    False\n",
       "84409    False\n",
       "84410    False\n",
       "84411    False\n",
       "84412    False\n",
       "Name: publication_date_time, dtype: bool"
      ]
     },
     "execution_count": 54,
     "metadata": {},
     "output_type": "execute_result"
    }
   ],
   "source": [
    "df['publication_date_time'].isnull()"
   ]
  },
  {
   "cell_type": "markdown",
   "metadata": {},
   "source": [
    "### Convert data"
   ]
  },
  {
   "cell_type": "code",
   "execution_count": 5,
   "metadata": {
    "collapsed": true
   },
   "outputs": [
    {
     "data": {
      "text/plain": [
       "0                      нет\n",
       "1                  1 лодж.\n",
       "2                  1 лодж.\n",
       "3                        –\n",
       "4                  1 лодж.\n",
       "5        1 балк. + 1 лодж.\n",
       "6                        –\n",
       "7                  1 балк.\n",
       "8                  1 балк.\n",
       "9                  1 лодж.\n",
       "10                 2 балк.\n",
       "11                 1 лодж.\n",
       "12       1 балк. + 1 лодж.\n",
       "13       1 балк. + 1 лодж.\n",
       "14                 1 лодж.\n",
       "15       1 балк. + 1 лодж.\n",
       "16       1 балк. + 1 лодж.\n",
       "17                 1 балк.\n",
       "18                 2 балк.\n",
       "19                       –\n",
       "20                 1 лодж.\n",
       "21                 1 лодж.\n",
       "22                 1 лодж.\n",
       "23                 1 балк.\n",
       "24                 1 лодж.\n",
       "25                 1 балк.\n",
       "26                 1 лодж.\n",
       "27                     нет\n",
       "28                 1 балк.\n",
       "29                       –\n",
       "               ...        \n",
       "84383              1 балк.\n",
       "84384              2 балк.\n",
       "84385              1 лодж.\n",
       "84386              1 лодж.\n",
       "84387                  нет\n",
       "84388    1 балк. + 1 лодж.\n",
       "84389              1 лодж.\n",
       "84390                    –\n",
       "84391              2 балк.\n",
       "84392              1 балк.\n",
       "84393              1 лодж.\n",
       "84394                  нет\n",
       "84395                  нет\n",
       "84396              1 балк.\n",
       "84397              1 лодж.\n",
       "84398              1 балк.\n",
       "84399              1 лодж.\n",
       "84400              1 балк.\n",
       "84401              1 балк.\n",
       "84402                  нет\n",
       "84403              1 балк.\n",
       "84404              1 лодж.\n",
       "84405              1 лодж.\n",
       "84406              1 лодж.\n",
       "84407              1 лодж.\n",
       "84408              1 лодж.\n",
       "84409                  нет\n",
       "84410              3 лодж.\n",
       "84411              1 балк.\n",
       "84412    1 балк. + 1 лодж.\n",
       "Name: Balcony, dtype: object"
      ]
     },
     "execution_count": 5,
     "metadata": {},
     "output_type": "execute_result"
    }
   ],
   "source": [
    "df['Balcony']"
   ]
  },
  {
   "cell_type": "code",
   "execution_count": 10,
   "metadata": {
    "collapsed": false
   },
   "outputs": [
    {
     "name": "stderr",
     "output_type": "stream",
     "text": [
      "100%|█████████████████████████████████████████████████████████████████████████| 84413/84413 [00:04<00:00, 19596.99it/s]\n"
     ]
    }
   ],
   "source": [
    "import re\n",
    "#Rooms\n",
    "df['rooms'].value_counts()\n",
    "df['rooms'] = df['rooms'].fillna(0)\n",
    "rooms_int = []\n",
    "for i in tqdm(range(len(df['rooms']))):\n",
    "    if 'с' in str(df['rooms'].iloc[i]):\n",
    "        rooms_int.append(0)\n",
    "    else:\n",
    "        rooms_int.append(  int(df['rooms'].iloc[i]) )\n",
    "df['rooms_int'] = rooms_int\n",
    "\n",
    "# Balcony\n",
    "df['Balcony'].fillna('-')\n",
    "Balcony_int =[]\n",
    "for i in range(len(df['Balcony'])):\n",
    "    #print(df['Balcony'].iloc[i])\n",
    "    list_n = re.findall(r'\\b\\d+\\b',str(df['Balcony'].iloc[i]) )\n",
    "    #print(list_n)\n",
    "    if len(list_n)!=0:\n",
    "        Balcony_int.append(sum(list(map(int, list_n))))\n",
    "    else:\n",
    "        Balcony_int.append(0)\n",
    "df['Balcony_int']=Balcony_int\n",
    "\n",
    "df['Lift'].fillna('-')\n",
    "Lift_int = []\n",
    "# Lift\n",
    "for i in range(len(df['Lift'])):\n",
    "    list_n = re.findall(r'\\b\\d+\\b',str(df['Lift'].iloc[i]) )\n",
    "    if len(list_n)!=0:\n",
    "        Lift_int.append(sum(list(map(int, list_n))))\n",
    "    else:\n",
    "        Lift_int.append(0)\n",
    "df['Lift_int']=Lift_int"
   ]
  },
  {
   "cell_type": "code",
   "execution_count": 7,
   "metadata": {
    "collapsed": false
   },
   "outputs": [
    {
     "ename": "NameError",
     "evalue": "name 'Balcony_int' is not defined",
     "output_type": "error",
     "traceback": [
      "\u001b[0;31m---------------------------------------------------------------------------\u001b[0m",
      "\u001b[0;31mNameError\u001b[0m                                 Traceback (most recent call last)",
      "\u001b[0;32m<ipython-input-7-c5d659e6f6b4>\u001b[0m in \u001b[0;36m<module>\u001b[0;34m()\u001b[0m\n\u001b[0;32m----> 1\u001b[0;31m \u001b[0mBalcony_int\u001b[0m\u001b[1;33m\u001b[0m\u001b[0m\n\u001b[0m",
      "\u001b[0;31mNameError\u001b[0m: name 'Balcony_int' is not defined"
     ]
    }
   ],
   "source": [
    "Balcony_int"
   ]
  },
  {
   "cell_type": "code",
   "execution_count": 11,
   "metadata": {
    "collapsed": true
   },
   "outputs": [
    {
     "name": "stderr",
     "output_type": "stream",
     "text": [
      " 11%|████████▏                                                                 | 9319/84413 [00:00<00:03, 21761.80it/s]\n"
     ]
    },
    {
     "ename": "ValueError",
     "evalue": "could not convert string to float: '2\\xa0700\\xa0'",
     "output_type": "error",
     "traceback": [
      "\u001b[0;31m---------------------------------------------------------------------------\u001b[0m",
      "\u001b[0;31mValueError\u001b[0m                                Traceback (most recent call last)",
      "\u001b[0;32m<ipython-input-11-b6e40bf82992>\u001b[0m in \u001b[0;36m<module>\u001b[0;34m()\u001b[0m\n\u001b[1;32m      8\u001b[0m     \u001b[0mstr1\u001b[0m \u001b[1;33m=\u001b[0m \u001b[0mre\u001b[0m\u001b[1;33m.\u001b[0m\u001b[0msub\u001b[0m\u001b[1;33m(\u001b[0m\u001b[1;34m' '\u001b[0m\u001b[1;33m,\u001b[0m \u001b[1;34m''\u001b[0m\u001b[1;33m,\u001b[0m \u001b[0mstr1\u001b[0m\u001b[1;33m)\u001b[0m\u001b[1;33m\u001b[0m\u001b[0m\n\u001b[1;32m      9\u001b[0m     \u001b[0mstr1\u001b[0m \u001b[1;33m=\u001b[0m \u001b[0mre\u001b[0m\u001b[1;33m.\u001b[0m\u001b[0msub\u001b[0m\u001b[1;33m(\u001b[0m\u001b[1;34m','\u001b[0m\u001b[1;33m,\u001b[0m \u001b[1;34m''\u001b[0m\u001b[1;33m,\u001b[0m \u001b[0mstr1\u001b[0m\u001b[1;33m)\u001b[0m\u001b[1;33m\u001b[0m\u001b[0m\n\u001b[0;32m---> 10\u001b[0;31m     \u001b[0ma\u001b[0m \u001b[1;33m=\u001b[0m \u001b[0mfloat\u001b[0m\u001b[1;33m(\u001b[0m\u001b[0mstr1\u001b[0m\u001b[1;33m)\u001b[0m\u001b[1;33m\u001b[0m\u001b[0m\n\u001b[0m\u001b[1;32m     11\u001b[0m     \u001b[1;32mif\u001b[0m \u001b[0ma\u001b[0m\u001b[1;33m==\u001b[0m\u001b[0ma\u001b[0m\u001b[1;33m:\u001b[0m\u001b[1;33m\u001b[0m\u001b[0m\n\u001b[1;32m     12\u001b[0m         \u001b[0ma\u001b[0m \u001b[1;33m=\u001b[0m \u001b[0ma\u001b[0m\u001b[1;33m/\u001b[0m\u001b[1;36m10\u001b[0m\u001b[1;33m**\u001b[0m\u001b[0mmath\u001b[0m\u001b[1;33m.\u001b[0m\u001b[0mtrunc\u001b[0m\u001b[1;33m(\u001b[0m\u001b[0mmath\u001b[0m\u001b[1;33m.\u001b[0m\u001b[0mlog10\u001b[0m\u001b[1;33m(\u001b[0m\u001b[0ma\u001b[0m\u001b[1;33m)\u001b[0m\u001b[1;33m)\u001b[0m\u001b[1;33m\u001b[0m\u001b[0m\n",
      "\u001b[0;31mValueError\u001b[0m: could not convert string to float: '2\\xa0700\\xa0'"
     ]
    }
   ],
   "source": [
    "import re\n",
    "import time\n",
    "import math\n",
    "df['Roof_hight'].fillna(0)\n",
    "Roof_hight_fl = []\n",
    "for i in tqdm(range(len(df['Lift']))):\n",
    "    str1 = re.sub('м', '', str(df['Roof_hight'].iloc[i]))\n",
    "    str1 = re.sub(' ', '', str1)\n",
    "    str1 = re.sub(',', '', str1)\n",
    "    a = float(str1)\n",
    "    if a==a:\n",
    "        a = a/10**math.trunc(math.log10(a))\n",
    "    else:\n",
    "        a=0\n",
    "    Roof_hight_fl.append(a)\n",
    "df['Roof_hight_fl'] = Roof_hight_fl"
   ]
  },
  {
   "cell_type": "markdown",
   "metadata": {},
   "source": [
    "#### Clean data"
   ]
  },
  {
   "cell_type": "code",
   "execution_count": 12,
   "metadata": {
    "collapsed": false
   },
   "outputs": [],
   "source": [
    "import time \n",
    "New_int=[]\n",
    "for i in range(len(df)):\n",
    "    a = df['Home_type'].iloc[i]\n",
    "    if 'новостро' in a:\n",
    "        New_int.append(1)\n",
    "    elif 'вторич' in a:\n",
    "        New_int.append(0)\n",
    "    else:\n",
    "        New_int.append(-1)\n",
    "        print(a)\n",
    "        print('Неопозннаый тип',end =' ')\n",
    "        time.sleep(1)\n",
    "df['New_int'] = New_int\n",
    "df['Built_year'] = df['Built_year'].fillna(0)\n",
    "df['Nfloor'] = df['Nfloor'].fillna(np.mean(df['Nfloor']))\n"
   ]
  },
  {
   "cell_type": "code",
   "execution_count": null,
   "metadata": {
    "collapsed": false
   },
   "outputs": [],
   "source": []
  },
  {
   "cell_type": "code",
   "execution_count": 8,
   "metadata": {
    "collapsed": false,
    "scrolled": true
   },
   "outputs": [
    {
     "data": {
      "text/plain": [
       "12047"
      ]
     },
     "execution_count": 8,
     "metadata": {},
     "output_type": "execute_result"
    }
   ],
   "source": [
    "sum(df['Kitsp'].isnull())"
   ]
  },
  {
   "cell_type": "code",
   "execution_count": 10,
   "metadata": {
    "collapsed": false
   },
   "outputs": [
    {
     "data": {
      "text/plain": [
       "['Balcony_int',\n",
       " 'Built_year',\n",
       " 'Floor',\n",
       " 'New_int',\n",
       " 'Lift_int',\n",
       " 'Nfloor',\n",
       " 'Totsp',\n",
       " 'dist',\n",
       " 'lat',\n",
       " 'lon',\n",
       " 'Kitsp']"
      ]
     },
     "execution_count": 10,
     "metadata": {},
     "output_type": "execute_result"
    }
   ],
   "source": [
    "features"
   ]
  },
  {
   "cell_type": "code",
   "execution_count": 14,
   "metadata": {
    "collapsed": false
   },
   "outputs": [
    {
     "data": {
      "text/plain": [
       "Index(['Unnamed: 0', 'Address', 'Balcony', 'Built_year', 'Description',\n",
       "       'Floor', 'Home_type', 'ID', 'Kitsp', 'Lift', 'Link', 'Livesp',\n",
       "       'Metro_station', 'Metro_time', 'Nfloor', 'Parking', 'Price', 'Remont',\n",
       "       'Roof_hight', 'Sales_type', 'Sdacha_GK', 'Search_group', 'Tel', 'Totsp',\n",
       "       'View', 'WC', 'Walk_metro', 'dist', 'is_premium', 'lat', 'lon',\n",
       "       'parsing_date', 'publication_date', 'rooms', 'sale', 'New_int'],\n",
       "      dtype='object')"
      ]
     },
     "execution_count": 14,
     "metadata": {},
     "output_type": "execute_result"
    }
   ],
   "source": [
    "df.columns"
   ]
  },
  {
   "cell_type": "code",
   "execution_count": 18,
   "metadata": {
    "collapsed": false
   },
   "outputs": [
    {
     "name": "stdout",
     "output_type": "stream",
     "text": [
      "Start time: 23:33:15\n",
      "23:33:17\n",
      "23:33:19\n",
      "23:33:21\n",
      "MAE\n",
      "1399512.85176\n",
      "Mean\n",
      "12425521.012\n",
      "0.102917485821\n"
     ]
    }
   ],
   "source": [
    "from sklearn.model_selection import KFold\n",
    "import time\n",
    "features = ['Balcony_int','Built_year','Floor','New_int','Lift_int','Nfloor','Totsp','dist',\n",
    "          'lat', 'lon','Kitsp']\n",
    "#features = ['Totsp','lat', 'lon']\n",
    "\n",
    "# 'Kitsp', 'Livesp','Metro_station', 'Metro_time', 'Parking' ,'Remont' ,'Sales_type', 'Tel','View', 'WC',\n",
    "#       'Walk_metro', 'publication_date'\n",
    "Y_test_pred_ALL = []\n",
    "target_feature = 'Price'\n",
    "out_filter = (df[target_feature]>1e6)& (df['Built_year']>1000) & (df[target_feature]<50e6)\n",
    "df_clean = df[out_filter][features + [target_feature]].dropna()\n",
    "\n",
    "kf = KFold(n_splits = 3,shuffle= False)\n",
    "kf.get_n_splits(df_clean)\n",
    "print('Start time:', time.strftime(\"%H:%M:%S\"))\n",
    "for train_index, test_index in kf.split(df_clean):\n",
    "    #print(\"TRAIN:\", train_index, \"TEST:\", test_index)\n",
    "\n",
    "    #Y = np.array(df_clean[target_feature])\n",
    "    #X = df_clean[features].as_matrix()\n",
    "\n",
    "    #X_train, X_test, Y_train, Y_test = train_test_split( X, Y, test_size=0.33, random_state=42)\n",
    "    X_train = df_clean[features].iloc[train_index].as_matrix()\n",
    "    Y_train = df_clean[target_feature].iloc[train_index].as_matrix()\n",
    "    X_test = df_clean[features].iloc[test_index].as_matrix()\n",
    "    Y_test = df_clean[target_feature].iloc[test_index].as_matrix()\n",
    "\n",
    "    #reg = GradientBoostingRegressor(n_estimators=1000)\n",
    "    #reg = reg.fit(X_train, Y_train)\n",
    "    #Y_test_pred=reg.predict(X_test)\n",
    "    \n",
    "    \n",
    "    gbm = xgb.XGBRegressor(max_depth=10, n_estimators=100).fit(X_train, Y_train)\n",
    "    Y_test_pred = gbm.predict(X_test)\n",
    "    Y_test_pred_ALL = np.append(Y_test_pred_ALL,Y_test_pred)\n",
    "    print(time.strftime(\"%H:%M:%S\"))\n",
    "print('MAE')\n",
    "Y_test_ALL = np.array(df_clean[target_feature])\n",
    "print (mean_absolute_error(Y_test_ALL,Y_test_pred_ALL) )\n",
    "#clf = clf.fit(X, Y)\n",
    "#Y_test_pred=clf.predict(X_test)\n",
    "print('Mean')\n",
    "print(np.mean(Y_test))\n",
    "Y_test= np.array(Y_test)\n",
    "Y_test_pred = np.array(Y_test_pred)\n",
    "err = abs(Y_test-Y_test_pred)/Y_test\n",
    "#Feature_importances = pd.DataFrame({'feature':features,'importance':reg.feature_importances_ })\n",
    "#print (Feature_importances.sort_values(by = 'importance',ascending = False))\n",
    "#np.mean(Y_test-)\n",
    "print(np.mean(err))\n",
    "#plt.show()"
   ]
  },
  {
   "cell_type": "code",
   "execution_count": 19,
   "metadata": {
    "collapsed": false
   },
   "outputs": [
    {
     "data": {
      "image/png": "[encoded data removed]",
      "text/plain": [
       "<matplotlib.figure.Figure at 0x1e3f76d58d0>"
      ]
     },
     "metadata": {},
     "output_type": "display_data"
    }
   ],
   "source": [
    "plt.scatter(Y_test_ALL,Y_test_pred_ALL,c='r',s=3*np.ones(len(Y_test_ALL)))\n",
    "#plt.set_markersize(sz)(3)\n",
    "plt.plot(  [min(Y_test_ALL),max(Y_test_ALL)],[min(Y_test_ALL),max(Y_test_ALL)],c='b')\n",
    "plt.xlabel('Real')\n",
    "plt.ylabel('Predicted')\n",
    "#plt.plot(  [0,max(Y_test)],[0-1e6,    max(Y_test)-1e6],c='b')\n",
    "#plt.plot(  [0,max(Y_test)],[0+1e6,    max(Y_test)+1e6],c='b')\n",
    "\n",
    "plt.show()"
   ]
  },
  {
   "cell_type": "code",
   "execution_count": 33,
   "metadata": {
    "collapsed": false
   },
   "outputs": [
    {
     "data": {
      "text/plain": [
       "11500000    587\n",
       "10500000    571\n",
       "12500000    554\n",
       "8500000     542\n",
       "7500000     537\n",
       "9500000     526\n",
       "6500000     509\n",
       "7300000     503\n",
       "8200000     499\n",
       "5500000     498\n",
       "7800000     492\n",
       "12000000    491\n",
       "5600000     477\n",
       "6800000     468\n",
       "11000000    463\n",
       "6700000     462\n",
       "8000000     459\n",
       "9000000     457\n",
       "13500000    455\n",
       "5200000     454\n",
       "5700000     454\n",
       "6200000     449\n",
       "6900000     447\n",
       "6300000     445\n",
       "6100000     442\n",
       "5300000     440\n",
       "8300000     438\n",
       "7200000     433\n",
       "13000000    429\n",
       "5900000     425\n",
       "           ... \n",
       "38067900      1\n",
       "13844160      1\n",
       "6905103       1\n",
       "7032526       1\n",
       "11476000      1\n",
       "17719020      1\n",
       "8067000       1\n",
       "5152500       1\n",
       "13940300      1\n",
       "14321399      1\n",
       "3203500       1\n",
       "30830250      1\n",
       "10886820      1\n",
       "5463564       1\n",
       "8240720       1\n",
       "30015000      1\n",
       "15998500      1\n",
       "30047784      1\n",
       "5787182       1\n",
       "9612850       1\n",
       "6504000       1\n",
       "20553300      1\n",
       "18890400      1\n",
       "31719000      1\n",
       "12580441      1\n",
       "14278236      1\n",
       "14843496      1\n",
       "21967200      1\n",
       "8638110       1\n",
       "10657812      1\n",
       "Name: Price, dtype: int64"
      ]
     },
     "execution_count": 33,
     "metadata": {},
     "output_type": "execute_result"
    }
   ],
   "source": [
    "df[\"Price\"].value_counts()"
   ]
  },
  {
   "cell_type": "code",
   "execution_count": 15,
   "metadata": {
    "collapsed": false
   },
   "outputs": [
    {
     "data": {
      "text/plain": [
       "29726"
      ]
     },
     "execution_count": 15,
     "metadata": {},
     "output_type": "execute_result"
    }
   ],
   "source": [
    "len(Y_test_pred_ALL)"
   ]
  },
  {
   "cell_type": "code",
   "execution_count": 18,
   "metadata": {
    "collapsed": false
   },
   "outputs": [],
   "source": [
    "df_clean_link = df[out_filter][features + [target_feature]+['Link']].dropna()"
   ]
  },
  {
   "cell_type": "code",
   "execution_count": 20,
   "metadata": {
    "collapsed": false
   },
   "outputs": [
    {
     "data": {
      "text/plain": [
       "7046     http://www.cian.ru/sale/flat/142002723/\n",
       "27217    http://www.cian.ru/sale/flat/153190271/\n",
       "Name: Link, dtype: object"
      ]
     },
     "execution_count": 20,
     "metadata": {},
     "output_type": "execute_result"
    }
   ],
   "source": [
    "df_clean_link[Y_test_pred_ALL/Y_test_ALL>4]['Link']"
   ]
  },
  {
   "cell_type": "code",
   "execution_count": 31,
   "metadata": {
    "collapsed": true
   },
   "outputs": [
    {
     "name": "stdout",
     "output_type": "stream",
     "text": [
      "Balcony_int\n"
     ]
    },
    {
     "data": {
      "image/png": "[encoded data removed]",
      "text/plain": [
       "<matplotlib.figure.Figure at 0x25d881cda90>"
      ]
     },
     "metadata": {},
     "output_type": "display_data"
    },
    {
     "name": "stdout",
     "output_type": "stream",
     "text": [
      "Built_year\n"
     ]
    },
    {
     "data": {
      "image/png": "[encoded data removed]",
      "text/plain": [
       "<matplotlib.figure.Figure at 0x25d881cd7f0>"
      ]
     },
     "metadata": {},
     "output_type": "display_data"
    },
    {
     "name": "stdout",
     "output_type": "stream",
     "text": [
      "Floor\n"
     ]
    },
    {
     "data": {
      "image/png": "[encoded data removed]",
      "text/plain": [
       "<matplotlib.figure.Figure at 0x25dfc1b5b38>"
      ]
     },
     "metadata": {},
     "output_type": "display_data"
    },
    {
     "name": "stdout",
     "output_type": "stream",
     "text": [
      "New_int\n"
     ]
    },
    {
     "name": "stderr",
     "output_type": "stream",
     "text": [
      "C:\\Users\\Artem\\Anaconda3\\lib\\site-packages\\matplotlib\\axes\\_axes.py:5991: RuntimeWarning: invalid value encountered in true_divide\n",
      "  m = (m.astype(float) / db) / m.sum()\n"
     ]
    },
    {
     "data": {
      "image/png": "[encoded data removed]",
      "text/plain": [
       "<matplotlib.figure.Figure at 0x25dfc291978>"
      ]
     },
     "metadata": {},
     "output_type": "display_data"
    },
    {
     "name": "stdout",
     "output_type": "stream",
     "text": [
      "Lift_int\n"
     ]
    },
    {
     "data": {
      "image/png": "[encoded data removed]",
      "text/plain": [
       "<matplotlib.figure.Figure at 0x25d840017b8>"
      ]
     },
     "metadata": {},
     "output_type": "display_data"
    },
    {
     "name": "stdout",
     "output_type": "stream",
     "text": [
      "Nfloor\n"
     ]
    },
    {
     "data": {
      "image/png": "[encoded data removed]",
      "text/plain": [
       "<matplotlib.figure.Figure at 0x25d88139278>"
      ]
     },
     "metadata": {},
     "output_type": "display_data"
    },
    {
     "name": "stdout",
     "output_type": "stream",
     "text": [
      "Roof_hight_fl\n"
     ]
    },
    {
     "data": {
      "image/png": "[encoded data removed]",
      "text/plain": [
       "<matplotlib.figure.Figure at 0x25d88118320>"
      ]
     },
     "metadata": {},
     "output_type": "display_data"
    },
    {
     "name": "stdout",
     "output_type": "stream",
     "text": [
      "Totsp\n"
     ]
    },
    {
     "data": {
      "image/png": "[encoded data removed]",
      "text/plain": [
       "<matplotlib.figure.Figure at 0x25d880eb4e0>"
      ]
     },
     "metadata": {},
     "output_type": "display_data"
    },
    {
     "name": "stdout",
     "output_type": "stream",
     "text": [
      "dist\n"
     ]
    },
    {
     "data": {
      "image/png": "[encoded data removed]",
      "text/plain": [
       "<matplotlib.figure.Figure at 0x25dfaa14860>"
      ]
     },
     "metadata": {},
     "output_type": "display_data"
    },
    {
     "name": "stdout",
     "output_type": "stream",
     "text": [
      "lat\n"
     ]
    },
    {
     "data": {
      "image/png": "[encoded data removed]",
      "text/plain": [
       "<matplotlib.figure.Figure at 0x25dfaa145c0>"
      ]
     },
     "metadata": {},
     "output_type": "display_data"
    },
    {
     "name": "stdout",
     "output_type": "stream",
     "text": [
      "lon\n"
     ]
    },
    {
     "data": {
      "image/png": "[encoded data removed]",
      "text/plain": [
       "<matplotlib.figure.Figure at 0x25d881c7390>"
      ]
     },
     "metadata": {},
     "output_type": "display_data"
    },
    {
     "name": "stdout",
     "output_type": "stream",
     "text": [
      "Kitsp\n"
     ]
    },
    {
     "data": {
      "image/png": "[encoded data removed]",
      "text/plain": [
       "<matplotlib.figure.Figure at 0x25d88250f98>"
      ]
     },
     "metadata": {},
     "output_type": "display_data"
    }
   ],
   "source": [
    "for feature in features:\n",
    "    print(feature)\n",
    "    outs = (Y_test_pred_ALL - Y_test_ALL)>2e6\n",
    "    x_min = min(df_clean[outs][feature])\n",
    "    x_max = max(df_clean[outs][feature])\n",
    "    filt = (df_clean[feature]>x_min)&(df_clean[feature]<x_max)\n",
    "    plt.hist(df_clean[outs][feature], normed=True,color='r',alpha=0.7)\n",
    "    plt.hist(df_clean[filt][feature], normed=True,color='b',alpha=0.7)\n",
    "    plt.show()"
   ]
  },
  {
   "cell_type": "code",
   "execution_count": 59,
   "metadata": {
    "collapsed": false
   },
   "outputs": [
    {
     "ename": "ValueError",
     "evalue": "Item wrong length 6182 instead of 18731.",
     "output_type": "error",
     "traceback": [
      "\u001b[0;31m---------------------------------------------------------------------------\u001b[0m",
      "\u001b[0;31mValueError\u001b[0m                                Traceback (most recent call last)",
      "\u001b[0;32m<ipython-input-59-75625c3e0478>\u001b[0m in \u001b[0;36m<module>\u001b[0;34m()\u001b[0m\n\u001b[0;32m----> 1\u001b[0;31m \u001b[0mdf_clean\u001b[0m\u001b[1;33m[\u001b[0m \u001b[1;33m(\u001b[0m\u001b[0mY_test_pred\u001b[0m \u001b[1;33m-\u001b[0m \u001b[0mY_test\u001b[0m\u001b[1;33m)\u001b[0m\u001b[1;33m>\u001b[0m\u001b[1;36m5e6\u001b[0m\u001b[1;33m]\u001b[0m\u001b[1;33m\u001b[0m\u001b[0m\n\u001b[0m",
      "\u001b[0;32mC:\\Users\\Artem\\Anaconda3\\lib\\site-packages\\pandas\\core\\frame.py\u001b[0m in \u001b[0;36m__getitem__\u001b[0;34m(self, key)\u001b[0m\n\u001b[1;32m   2051\u001b[0m         \u001b[1;32mif\u001b[0m \u001b[0misinstance\u001b[0m\u001b[1;33m(\u001b[0m\u001b[0mkey\u001b[0m\u001b[1;33m,\u001b[0m \u001b[1;33m(\u001b[0m\u001b[0mSeries\u001b[0m\u001b[1;33m,\u001b[0m \u001b[0mnp\u001b[0m\u001b[1;33m.\u001b[0m\u001b[0mndarray\u001b[0m\u001b[1;33m,\u001b[0m \u001b[0mIndex\u001b[0m\u001b[1;33m,\u001b[0m \u001b[0mlist\u001b[0m\u001b[1;33m)\u001b[0m\u001b[1;33m)\u001b[0m\u001b[1;33m:\u001b[0m\u001b[1;33m\u001b[0m\u001b[0m\n\u001b[1;32m   2052\u001b[0m             \u001b[1;31m# either boolean or fancy integer index\u001b[0m\u001b[1;33m\u001b[0m\u001b[1;33m\u001b[0m\u001b[0m\n\u001b[0;32m-> 2053\u001b[0;31m             \u001b[1;32mreturn\u001b[0m \u001b[0mself\u001b[0m\u001b[1;33m.\u001b[0m\u001b[0m_getitem_array\u001b[0m\u001b[1;33m(\u001b[0m\u001b[0mkey\u001b[0m\u001b[1;33m)\u001b[0m\u001b[1;33m\u001b[0m\u001b[0m\n\u001b[0m\u001b[1;32m   2054\u001b[0m         \u001b[1;32melif\u001b[0m \u001b[0misinstance\u001b[0m\u001b[1;33m(\u001b[0m\u001b[0mkey\u001b[0m\u001b[1;33m,\u001b[0m \u001b[0mDataFrame\u001b[0m\u001b[1;33m)\u001b[0m\u001b[1;33m:\u001b[0m\u001b[1;33m\u001b[0m\u001b[0m\n\u001b[1;32m   2055\u001b[0m             \u001b[1;32mreturn\u001b[0m \u001b[0mself\u001b[0m\u001b[1;33m.\u001b[0m\u001b[0m_getitem_frame\u001b[0m\u001b[1;33m(\u001b[0m\u001b[0mkey\u001b[0m\u001b[1;33m)\u001b[0m\u001b[1;33m\u001b[0m\u001b[0m\n",
      "\u001b[0;32mC:\\Users\\Artem\\Anaconda3\\lib\\site-packages\\pandas\\core\\frame.py\u001b[0m in \u001b[0;36m_getitem_array\u001b[0;34m(self, key)\u001b[0m\n\u001b[1;32m   2088\u001b[0m             \u001b[1;32melif\u001b[0m \u001b[0mlen\u001b[0m\u001b[1;33m(\u001b[0m\u001b[0mkey\u001b[0m\u001b[1;33m)\u001b[0m \u001b[1;33m!=\u001b[0m \u001b[0mlen\u001b[0m\u001b[1;33m(\u001b[0m\u001b[0mself\u001b[0m\u001b[1;33m.\u001b[0m\u001b[0mindex\u001b[0m\u001b[1;33m)\u001b[0m\u001b[1;33m:\u001b[0m\u001b[1;33m\u001b[0m\u001b[0m\n\u001b[1;32m   2089\u001b[0m                 raise ValueError('Item wrong length %d instead of %d.' %\n\u001b[0;32m-> 2090\u001b[0;31m                                  (len(key), len(self.index)))\n\u001b[0m\u001b[1;32m   2091\u001b[0m             \u001b[1;31m# check_bool_indexer will throw exception if Series key cannot\u001b[0m\u001b[1;33m\u001b[0m\u001b[1;33m\u001b[0m\u001b[0m\n\u001b[1;32m   2092\u001b[0m             \u001b[1;31m# be reindexed to match DataFrame rows\u001b[0m\u001b[1;33m\u001b[0m\u001b[1;33m\u001b[0m\u001b[0m\n",
      "\u001b[0;31mValueError\u001b[0m: Item wrong length 6182 instead of 18731."
     ]
    }
   ],
   "source": [
    "df_clean[ (Y_test_pred - Y_test)>5e6]"
   ]
  },
  {
   "cell_type": "code",
   "execution_count": 11,
   "metadata": {
    "collapsed": true
   },
   "outputs": [
    {
     "name": "stdout",
     "output_type": "stream",
     "text": [
      "0\n",
      "60.0     272\n",
      "75.0     236\n",
      "54.0     206\n",
      "80.0     206\n",
      "40.0     169\n",
      "70.0     169\n",
      "39.0     159\n",
      "38.0     155\n",
      "45.0     150\n",
      "52.0     150\n",
      "55.0     147\n",
      "76.0     146\n",
      "64.0     141\n",
      "65.0     140\n",
      "78.0     134\n",
      "74.0     132\n",
      "58.0     131\n",
      "56.0     124\n",
      "50.0     118\n",
      "53.0     115\n",
      "35.0     110\n",
      "32.0     107\n",
      "73.0     104\n",
      "100.0    104\n",
      "42.0     102\n",
      "33.0     101\n",
      "72.0      95\n",
      "77.0      94\n",
      "59.0      93\n",
      "68.0      92\n",
      "        ... \n",
      "162.9      1\n",
      "23.9       1\n",
      "164.3      1\n",
      "123.4      1\n",
      "120.2      1\n",
      "20.4       1\n",
      "127.7      1\n",
      "112.8      1\n",
      "123.3      1\n",
      "145.2      1\n",
      "115.5      1\n",
      "12.5       1\n",
      "118.1      1\n",
      "106.1      1\n",
      "200.0      1\n",
      "93.4       1\n",
      "104.1      1\n",
      "144.0      1\n",
      "142.0      1\n",
      "136.3      1\n",
      "107.4      1\n",
      "126.4      1\n",
      "88.9       1\n",
      "108.1      1\n",
      "147.8      1\n",
      "14.8       1\n",
      "116.5      1\n",
      "105.5      1\n",
      "121.7      1\n",
      "114.8      1\n",
      "Name: Totsp, dtype: int64\n"
     ]
    }
   ],
   "source": [
    "feature_for_test = 'Totsp'\n",
    "print(sum(df[feature_for_test].isnull()))\n",
    "print(df[feature_for_test].value_counts())"
   ]
  },
  {
   "cell_type": "code",
   "execution_count": 12,
   "metadata": {
    "collapsed": true
   },
   "outputs": [],
   "source": [
    "features = ['Built_year','Floor',]"
   ]
  },
  {
   "cell_type": "code",
   "execution_count": 91,
   "metadata": {
    "collapsed": false
   },
   "outputs": [
    {
     "data": {
      "image/png": "[encoded data removed]",
      "text/plain": [
       "<matplotlib.figure.Figure at 0x23e81240390>"
      ]
     },
     "metadata": {},
     "output_type": "display_data"
    }
   ],
   "source": [
    "def heat_map(x,y):\n",
    "    import numpy as np\n",
    "    import matplotlib.pyplot as plt\n",
    "    heatmap, xedges, yedges = np.histogram2d(x, y, bins=100)\n",
    "    extent = [xedges[0], xedges[-1], yedges[0], yedges[-1]]\n",
    "    #print(heatmap)\n",
    "    plt.clf()\n",
    "    #plt.figure(figsize=(10,5))\n",
    "    #plt.imshow(heatmap.T, extent=extent, origin='lower')\n",
    "    #plt.show()\n",
    "    plt.imshow(np.log2(heatmap.T+1), extent=extent,interpolation='nearest')\n",
    "    plt.show()\n",
    "    #plt.imshow(heatmap.T,extent=extent, interpolation='nearest')\n",
    "    #plt.show()\n",
    "heat_map(df[df['dist']<100]['lon'],df[df['dist']<100]['lat'])"
   ]
  },
  {
   "cell_type": "code",
   "execution_count": 73,
   "metadata": {
    "collapsed": false
   },
   "outputs": [
    {
     "data": {
      "text/plain": [
       "48"
      ]
     },
     "execution_count": 73,
     "metadata": {},
     "output_type": "execute_result"
    }
   ],
   "source": [
    "from functools import reduce\n",
    "def lol(a,b):\n",
    "    return a*b\n",
    "#reduce( (lambda x, y: x * y), [1, 2, 3, 4] )\n",
    "reduce( lol, [2, 2, 3, 4] )"
   ]
  },
  {
   "cell_type": "code",
   "execution_count": 16,
   "metadata": {
    "collapsed": true
   },
   "outputs": [],
   "source": [
    "df.to_excel('a.xlsx')"
   ]
  },
  {
   "cell_type": "code",
   "execution_count": 42,
   "metadata": {
    "collapsed": false
   },
   "outputs": [
    {
     "name": "stderr",
     "output_type": "stream",
     "text": [
      "100%|███████████████████████████████████████████████████████████████████████████| 15288/15288 [00:56<00:00, 268.80it/s]\n"
     ]
    }
   ],
   "source": [
    "from functools import reduce\n",
    "from tqdm import tqdm\n",
    "text =''\n",
    "for el in  tqdm(df[\"Description\"]):\n",
    "    text+=el\n"
   ]
  },
  {
   "cell_type": "code",
   "execution_count": 50,
   "metadata": {
    "collapsed": false
   },
   "outputs": [],
   "source": [
    "import re\n",
    "split_sim=' '\n",
    "for el in ['\\n',' ','\\r','-',',',' ','\\tb']:\n",
    "    split_sim+=('|'+el)\n",
    "\n",
    "text_splited = re.split(split_sim, text)"
   ]
  },
  {
   "cell_type": "code",
   "execution_count": 52,
   "metadata": {
    "collapsed": false,
    "scrolled": true
   },
   "outputs": [],
   "source": [
    "a =pd.Series(text_splited).value_counts()"
   ]
  },
  {
   "cell_type": "code",
   "execution_count": 13,
   "metadata": {
    "collapsed": false
   },
   "outputs": [
    {
     "ename": "ImportError",
     "evalue": "No module named 'mpl_toolkits.basemap'",
     "output_type": "error",
     "traceback": [
      "\u001b[0;31m---------------------------------------------------------------------------\u001b[0m",
      "\u001b[0;31mImportError\u001b[0m                               Traceback (most recent call last)",
      "\u001b[0;32m<ipython-input-13-8917618809ae>\u001b[0m in \u001b[0;36m<module>\u001b[0;34m()\u001b[0m\n\u001b[0;32m----> 1\u001b[0;31m \u001b[1;32mfrom\u001b[0m \u001b[0mmpl_toolkits\u001b[0m\u001b[1;33m.\u001b[0m\u001b[0mbasemap\u001b[0m \u001b[1;32mimport\u001b[0m \u001b[0mBasemap\u001b[0m\u001b[1;33m,\u001b[0m \u001b[0mcm\u001b[0m\u001b[1;33m\u001b[0m\u001b[0m\n\u001b[0m\u001b[1;32m      2\u001b[0m \u001b[1;31m# requires netcdf4-python (netcdf4-python.googlecode.com)\u001b[0m\u001b[1;33m\u001b[0m\u001b[1;33m\u001b[0m\u001b[0m\n\u001b[1;32m      3\u001b[0m \u001b[1;32mfrom\u001b[0m \u001b[0mnetCDF4\u001b[0m \u001b[1;32mimport\u001b[0m \u001b[0mDataset\u001b[0m \u001b[1;32mas\u001b[0m \u001b[0mNetCDFFile\u001b[0m\u001b[1;33m\u001b[0m\u001b[0m\n\u001b[1;32m      4\u001b[0m \u001b[1;32mimport\u001b[0m \u001b[0mnumpy\u001b[0m \u001b[1;32mas\u001b[0m \u001b[0mnp\u001b[0m\u001b[1;33m\u001b[0m\u001b[0m\n\u001b[1;32m      5\u001b[0m \u001b[1;32mimport\u001b[0m \u001b[0mmatplotlib\u001b[0m\u001b[1;33m.\u001b[0m\u001b[0mpyplot\u001b[0m \u001b[1;32mas\u001b[0m \u001b[0mplt\u001b[0m\u001b[1;33m\u001b[0m\u001b[0m\n",
      "\u001b[0;31mImportError\u001b[0m: No module named 'mpl_toolkits.basemap'"
     ]
    }
   ],
   "source": [
    "from mpl_toolkits.basemap import Basemap, cm\n",
    "# requires netcdf4-python (netcdf4-python.googlecode.com)\n",
    "from netCDF4 import Dataset as NetCDFFile\n",
    "import numpy as np\n",
    "import matplotlib.pyplot as plt\n",
    "\n",
    "# plot rainfall from NWS using special precipitation\n",
    "# colormap used by the NWS, and included in basemap.\n",
    "\n",
    "nc = NetCDFFile('../../../examples/nws_precip_conus_20061222.nc')\n",
    "# data from http://water.weather.gov/precip/\n",
    "prcpvar = nc.variables['amountofprecip']\n",
    "data = 0.01*prcpvar[:]\n",
    "latcorners = nc.variables['lat'][:]\n",
    "loncorners = -nc.variables['lon'][:]\n",
    "lon_0 = -nc.variables['true_lon'].getValue()\n",
    "lat_0 = nc.variables['true_lat'].getValue()\n",
    "# create figure and axes instances\n",
    "fig = plt.figure(figsize=(8,8))\n",
    "ax = fig.add_axes([0.1,0.1,0.8,0.8])\n",
    "# create polar stereographic Basemap instance.\n",
    "m = Basemap(projection='stere',lon_0=lon_0,lat_0=90.,lat_ts=lat_0,\\\n",
    "            llcrnrlat=latcorners[0],urcrnrlat=latcorners[2],\\\n",
    "            llcrnrlon=loncorners[0],urcrnrlon=loncorners[2],\\\n",
    "            rsphere=6371200.,resolution='l',area_thresh=10000)\n",
    "# draw coastlines, state and country boundaries, edge of map.\n",
    "m.drawcoastlines()\n",
    "m.drawstates()\n",
    "m.drawcountries()\n",
    "# draw parallels.\n",
    "parallels = np.arange(0.,90,10.)\n",
    "m.drawparallels(parallels,labels=[1,0,0,0],fontsize=10)\n",
    "# draw meridians\n",
    "meridians = np.arange(180.,360.,10.)\n",
    "m.drawmeridians(meridians,labels=[0,0,0,1],fontsize=10)\n",
    "ny = data.shape[0]; nx = data.shape[1]\n",
    "lons, lats = m.makegrid(nx, ny) # get lat/lons of ny by nx evenly space grid.\n",
    "x, y = m(lons, lats) # compute map proj coordinates.\n",
    "# draw filled contours.\n",
    "clevs = [0,1,2.5,5,7.5,10,15,20,30,40,50,70,100,150,200,250,300,400,500,600,750]\n",
    "cs = m.contourf(x,y,data,clevs,cmap=cm.s3pcpn)\n",
    "# add colorbar.\n",
    "cbar = m.colorbar(cs,location='bottom',pad=\"5%\")\n",
    "cbar.set_label('mm')\n",
    "# add title\n",
    "plt.title(prcpvar.long_name+' for period ending '+prcpvar.dateofdata)\n",
    "plt.show()"
   ]
  },
  {
   "cell_type": "code",
   "execution_count": 48,
   "metadata": {
    "collapsed": false
   },
   "outputs": [],
   "source": [
    "mln_boarders=[]\n",
    "for mln_price in range(380,500,1):\n",
    "    mln_boarders.append(mln_price*0.1e6)\n",
    "    #print(mln_price)\n",
    "    if mln_price%5==0:\n",
    "        #print('eba')\n",
    "        mln_boarders.append( (mln_price*0.1e6) + 1 )\n",
    "        "
   ]
  },
  {
   "cell_type": "code",
   "execution_count": 1,
   "metadata": {
    "collapsed": false
   },
   "outputs": [
    {
     "ename": "TypeError",
     "evalue": "get_address() missing 1 required positional argument: 'dic'",
     "output_type": "error",
     "traceback": [
      "\u001b[0;31m---------------------------------------------------------------------------\u001b[0m",
      "\u001b[0;31mTypeError\u001b[0m                                 Traceback (most recent call last)",
      "\u001b[0;32m<ipython-input-1-3665b4702099>\u001b[0m in \u001b[0;36m<module>\u001b[0;34m()\u001b[0m\n\u001b[1;32m     68\u001b[0m \u001b[0mflat_page\u001b[0m \u001b[1;33m=\u001b[0m \u001b[0mflat_page\u001b[0m\u001b[1;33m.\u001b[0m\u001b[0mcontent\u001b[0m\u001b[1;33m\u001b[0m\u001b[0m\n\u001b[1;32m     69\u001b[0m \u001b[0mflat_page\u001b[0m \u001b[1;33m=\u001b[0m \u001b[0mBeautifulSoup\u001b[0m\u001b[1;33m(\u001b[0m\u001b[0mflat_page\u001b[0m\u001b[1;33m,\u001b[0m \u001b[1;34m'lxml'\u001b[0m\u001b[1;33m)\u001b[0m\u001b[1;33m\u001b[0m\u001b[0m\n\u001b[0;32m---> 70\u001b[0;31m \u001b[0mget_address\u001b[0m\u001b[1;33m(\u001b[0m\u001b[0mflat_page\u001b[0m\u001b[1;33m)\u001b[0m\u001b[1;33m\u001b[0m\u001b[0m\n\u001b[0m",
      "\u001b[0;31mTypeError\u001b[0m: get_address() missing 1 required positional argument: 'dic'"
     ]
    }
   ],
   "source": [
    "#get_data_from_page_PART3.py NEW!!!\n",
    "import pandas as pd\n",
    "import requests\n",
    "import re\n",
    "def html_stripper(text):\n",
    "    return re.sub('<[^<]+?>', '', str(text))\n",
    "from bs4 import BeautifulSoup\n",
    "\n",
    "\n",
    "\n",
    "#Выдаёт не один элемент, а сразу небольшой словарь с переменными\n",
    "def metro(flat_page,dic):\n",
    "    #в sth (от англиского something) содержится много того, что нам нужно   \n",
    "    # сколько миниут до метро и на машине или пешком\n",
    "    sth = flat_page.find('span', attrs={'class':'object_item_metro_comment'})\n",
    "    sth = html_stripper(sth)\n",
    "    sth_list=sth.split('\\n')\n",
    "    sth_list = list(filter(None, sth_list))\n",
    "    Metrdist = re.findall('\\d+', sth)\n",
    "    if len(Metrdist)==1:\n",
    "        dic['Metro_time'] = int( Metrdist[0] )\n",
    "    if 'пешком'in sth:\n",
    "        dic['Walk_metro']=int(1)\n",
    "    if 'машин' in sth:\n",
    "        dic['Walk_metro']=int(0)\n",
    "    # Станция метро\n",
    "    sth = flat_page.find('a', attrs={'class':\"object_item_metro_name\"})\n",
    "    sth = html_stripper(sth)\n",
    "    dic[\"Metro_station\"] = str(sth)\n",
    "    \n",
    "def add_feat4(dic,sth,spliter1,spliter2, key):\n",
    "    #sth_list =str(sth).split(spliter)\n",
    "    sth_list = re.split(spliter1+'|'+spliter2,sth)\n",
    "    if len(sth_list)>1:\n",
    "        dic[key] = sth_list[1]\n",
    "    else:\n",
    "        dic[key] = sth_list[0]\n",
    "\n",
    "def many_get3(flat_page):\n",
    "    #print(flat_page)\n",
    "    dic ={}\n",
    "    #Всякая хрень почти из подзаголовка\n",
    "    sth = flat_page.find('span', attrs={'class':'object_descr_dt_added'})#.contents[1]\n",
    "    sth=str(sth)\n",
    "    #print(sth)\n",
    "    add_feat4(dic=dic ,sth=sth ,spliter1='\"deal_type\": ',spliter2 = '\"publication_date\"',key= 'sale')\n",
    "    add_feat4(dic=dic ,sth=sth ,spliter1='\"publication_date\": ',spliter2 = ', \"id\":',key= 'publication_date')\n",
    "    add_feat4(dic=dic ,sth=sth ,spliter1='\"is_premium\":',spliter2 = '\"deal_type\":',key= 'is_premium')\n",
    "    # Добавать ближайшую (первую в списке из ближайших) станций метро, время на способ добраться (пешком или на машине)\n",
    "    metro(flat_page,dic)\n",
    "    \n",
    "    sth = flat_page.find('div', attrs={'class':'object_descr_text'})\n",
    "    sth = html_stripper(sth)\n",
    "    sth.replace('\\n',' ')\n",
    "    #print()\n",
    "    dic['Description'] = re.sub(' +',' ',sth)\n",
    "    return(dic)\n",
    "def get_address(flat_page,dic):\n",
    "    sth = flat_page.find('h1', attrs={'class':'object_descr_addr'})\n",
    "    sth = html_stripper(sth)\n",
    "    sth = sth.replace('\\n',' ')\n",
    "    sth = sth.replace('                       ',' ')\n",
    "    dic['Address'] = sth\n",
    "#link_number = 151535540\n",
    "link_number = 150718150\n",
    "flat_url = 'http://www.cian.ru/sale/flat/' + str(link_number) + '/'\n",
    "flat_page = requests.get(flat_url)\n",
    "flat_page = flat_page.content\n",
    "flat_page = BeautifulSoup(flat_page, 'lxml')\n",
    "get_address(flat_page)"
   ]
  },
  {
   "cell_type": "code",
   "execution_count": 19,
   "metadata": {
    "collapsed": false
   },
   "outputs": [
    {
     "ename": "OSError",
     "evalue": "Unable to open boundary dataset file. Only the 'crude' and  'low',\nresolution datasets are installed by default.\nIf you are requesting an, 'intermediate', 'high' or 'full'\nresolution dataset, you may need to download and install those\nfiles separately with\n`conda install -c conda-forge basemap-data-hires`.",
     "output_type": "error",
     "traceback": [
      "\u001b[0;31m---------------------------------------------------------------------------\u001b[0m",
      "\u001b[0;31mFileNotFoundError\u001b[0m                         Traceback (most recent call last)",
      "\u001b[0;32mC:\\Users\\Artem\\Anaconda3\\lib\\site-packages\\mpl_toolkits\\basemap\\__init__.py\u001b[0m in \u001b[0;36m_readboundarydata\u001b[0;34m(self, name, as_polygons)\u001b[0m\n\u001b[1;32m   1221\u001b[0m         \u001b[1;32mtry\u001b[0m\u001b[1;33m:\u001b[0m\u001b[1;33m\u001b[0m\u001b[0m\n\u001b[0;32m-> 1222\u001b[0;31m             \u001b[0mbdatfile\u001b[0m \u001b[1;33m=\u001b[0m \u001b[0mopen\u001b[0m\u001b[1;33m(\u001b[0m\u001b[0mos\u001b[0m\u001b[1;33m.\u001b[0m\u001b[0mpath\u001b[0m\u001b[1;33m.\u001b[0m\u001b[0mjoin\u001b[0m\u001b[1;33m(\u001b[0m\u001b[0mbasemap_datadir\u001b[0m\u001b[1;33m,\u001b[0m\u001b[0mname\u001b[0m\u001b[1;33m+\u001b[0m\u001b[1;34m'_'\u001b[0m\u001b[1;33m+\u001b[0m\u001b[0mself\u001b[0m\u001b[1;33m.\u001b[0m\u001b[0mresolution\u001b[0m\u001b[1;33m+\u001b[0m\u001b[1;34m'.dat'\u001b[0m\u001b[1;33m)\u001b[0m\u001b[1;33m,\u001b[0m\u001b[1;34m'rb'\u001b[0m\u001b[1;33m)\u001b[0m\u001b[1;33m\u001b[0m\u001b[0m\n\u001b[0m\u001b[1;32m   1223\u001b[0m             \u001b[0mbdatmetafile\u001b[0m \u001b[1;33m=\u001b[0m \u001b[0mopen\u001b[0m\u001b[1;33m(\u001b[0m\u001b[0mos\u001b[0m\u001b[1;33m.\u001b[0m\u001b[0mpath\u001b[0m\u001b[1;33m.\u001b[0m\u001b[0mjoin\u001b[0m\u001b[1;33m(\u001b[0m\u001b[0mbasemap_datadir\u001b[0m\u001b[1;33m,\u001b[0m\u001b[0mname\u001b[0m\u001b[1;33m+\u001b[0m\u001b[1;34m'meta_'\u001b[0m\u001b[1;33m+\u001b[0m\u001b[0mself\u001b[0m\u001b[1;33m.\u001b[0m\u001b[0mresolution\u001b[0m\u001b[1;33m+\u001b[0m\u001b[1;34m'.dat'\u001b[0m\u001b[1;33m)\u001b[0m\u001b[1;33m,\u001b[0m\u001b[1;34m'r'\u001b[0m\u001b[1;33m)\u001b[0m\u001b[1;33m\u001b[0m\u001b[0m\n",
      "\u001b[0;31mFileNotFoundError\u001b[0m: [Errno 2] No such file or directory: 'C:\\\\Users\\\\Artem\\\\Anaconda3\\\\Library\\\\share\\\\basemap\\\\gshhs_i.dat'",
      "\nDuring handling of the above exception, another exception occurred:\n",
      "\u001b[0;31mOSError\u001b[0m                                   Traceback (most recent call last)",
      "\u001b[0;32m<ipython-input-19-7c41a0a70d99>\u001b[0m in \u001b[0;36m<module>\u001b[0;34m()\u001b[0m\n\u001b[0;32m----> 1\u001b[0;31m \u001b[0mtest_map\u001b[0m \u001b[1;33m=\u001b[0m \u001b[0mBasemap\u001b[0m\u001b[1;33m(\u001b[0m\u001b[0mllcrnrlon\u001b[0m\u001b[1;33m=\u001b[0m\u001b[1;36m15.2\u001b[0m\u001b[1;33m,\u001b[0m\u001b[0mllcrnrlat\u001b[0m\u001b[1;33m=\u001b[0m\u001b[1;36m47.06\u001b[0m\u001b[1;33m,\u001b[0m\u001b[0murcrnrlon\u001b[0m\u001b[1;33m=\u001b[0m\u001b[1;36m15.5\u001b[0m\u001b[1;33m,\u001b[0m \u001b[0murcrnrlat\u001b[0m\u001b[1;33m=\u001b[0m\u001b[1;36m47.49\u001b[0m\u001b[1;33m,\u001b[0m \u001b[0mepsg\u001b[0m \u001b[1;33m=\u001b[0m \u001b[1;36m31284\u001b[0m\u001b[1;33m,\u001b[0m\u001b[0mresolution\u001b[0m\u001b[1;33m=\u001b[0m\u001b[1;34m'i'\u001b[0m\u001b[1;33m,\u001b[0m\u001b[0mprojection\u001b[0m\u001b[1;33m=\u001b[0m\u001b[1;34m'merc'\u001b[0m\u001b[1;33m,\u001b[0m\u001b[0mlon_0\u001b[0m\u001b[1;33m=\u001b[0m\u001b[1;36m14.8\u001b[0m\u001b[1;33m,\u001b[0m\u001b[0mlat_0\u001b[0m\u001b[1;33m=\u001b[0m\u001b[1;36m47.2\u001b[0m\u001b[1;33m)\u001b[0m\u001b[1;33m\u001b[0m\u001b[0m\n\u001b[0m\u001b[1;32m      2\u001b[0m \u001b[1;33m\u001b[0m\u001b[0m\n\u001b[1;32m      3\u001b[0m \u001b[1;33m\u001b[0m\u001b[0m\n\u001b[1;32m      4\u001b[0m \u001b[0mtest__map\u001b[0m\u001b[1;33m.\u001b[0m\u001b[0marcgisimage\u001b[0m\u001b[1;33m(\u001b[0m\u001b[0mservice\u001b[0m\u001b[1;33m=\u001b[0m\u001b[1;34m'ESRI_StreetMap_World_2D'\u001b[0m\u001b[1;33m,\u001b[0m \u001b[0mxpixels\u001b[0m \u001b[1;33m=\u001b[0m \u001b[1;36m12000\u001b[0m\u001b[1;33m,\u001b[0m \u001b[0mverbose\u001b[0m\u001b[1;33m=\u001b[0m \u001b[1;32mTrue\u001b[0m\u001b[1;33m)\u001b[0m\u001b[1;33m\u001b[0m\u001b[0m\n",
      "\u001b[0;32mC:\\Users\\Artem\\Anaconda3\\lib\\site-packages\\mpl_toolkits\\basemap\\__init__.py\u001b[0m in \u001b[0;36m__init__\u001b[0;34m(self, llcrnrlon, llcrnrlat, urcrnrlon, urcrnrlat, llcrnrx, llcrnry, urcrnrx, urcrnry, width, height, projection, resolution, area_thresh, rsphere, ellps, lat_ts, lat_1, lat_2, lat_0, lon_0, lon_1, lon_2, o_lon_p, o_lat_p, k_0, no_rot, suppress_ticks, satellite_height, boundinglat, fix_aspect, anchor, celestial, round, epsg, ax)\u001b[0m\n\u001b[1;32m   1109\u001b[0m         \u001b[1;32mif\u001b[0m \u001b[0mself\u001b[0m\u001b[1;33m.\u001b[0m\u001b[0mresolution\u001b[0m \u001b[1;32mis\u001b[0m \u001b[1;32mnot\u001b[0m \u001b[1;32mNone\u001b[0m\u001b[1;33m:\u001b[0m\u001b[1;33m\u001b[0m\u001b[0m\n\u001b[1;32m   1110\u001b[0m             \u001b[0mself\u001b[0m\u001b[1;33m.\u001b[0m\u001b[0mcoastsegs\u001b[0m\u001b[1;33m,\u001b[0m \u001b[0mself\u001b[0m\u001b[1;33m.\u001b[0m\u001b[0mcoastpolygontypes\u001b[0m \u001b[1;33m=\u001b[0m\u001b[0;31m\\\u001b[0m\u001b[1;33m\u001b[0m\u001b[0m\n\u001b[0;32m-> 1111\u001b[0;31m             \u001b[0mself\u001b[0m\u001b[1;33m.\u001b[0m\u001b[0m_readboundarydata\u001b[0m\u001b[1;33m(\u001b[0m\u001b[1;34m'gshhs'\u001b[0m\u001b[1;33m,\u001b[0m\u001b[0mas_polygons\u001b[0m\u001b[1;33m=\u001b[0m\u001b[1;32mTrue\u001b[0m\u001b[1;33m)\u001b[0m\u001b[1;33m\u001b[0m\u001b[0m\n\u001b[0m\u001b[1;32m   1112\u001b[0m             \u001b[1;31m# reformat for use in matplotlib.patches.Polygon.\u001b[0m\u001b[1;33m\u001b[0m\u001b[1;33m\u001b[0m\u001b[0m\n\u001b[1;32m   1113\u001b[0m             \u001b[0mself\u001b[0m\u001b[1;33m.\u001b[0m\u001b[0mcoastpolygons\u001b[0m \u001b[1;33m=\u001b[0m \u001b[1;33m[\u001b[0m\u001b[1;33m]\u001b[0m\u001b[1;33m\u001b[0m\u001b[0m\n",
      "\u001b[0;32mC:\\Users\\Artem\\Anaconda3\\lib\\site-packages\\mpl_toolkits\\basemap\\__init__.py\u001b[0m in \u001b[0;36m_readboundarydata\u001b[0;34m(self, name, as_polygons)\u001b[0m\n\u001b[1;32m   1223\u001b[0m             \u001b[0mbdatmetafile\u001b[0m \u001b[1;33m=\u001b[0m \u001b[0mopen\u001b[0m\u001b[1;33m(\u001b[0m\u001b[0mos\u001b[0m\u001b[1;33m.\u001b[0m\u001b[0mpath\u001b[0m\u001b[1;33m.\u001b[0m\u001b[0mjoin\u001b[0m\u001b[1;33m(\u001b[0m\u001b[0mbasemap_datadir\u001b[0m\u001b[1;33m,\u001b[0m\u001b[0mname\u001b[0m\u001b[1;33m+\u001b[0m\u001b[1;34m'meta_'\u001b[0m\u001b[1;33m+\u001b[0m\u001b[0mself\u001b[0m\u001b[1;33m.\u001b[0m\u001b[0mresolution\u001b[0m\u001b[1;33m+\u001b[0m\u001b[1;34m'.dat'\u001b[0m\u001b[1;33m)\u001b[0m\u001b[1;33m,\u001b[0m\u001b[1;34m'r'\u001b[0m\u001b[1;33m)\u001b[0m\u001b[1;33m\u001b[0m\u001b[0m\n\u001b[1;32m   1224\u001b[0m         \u001b[1;32mexcept\u001b[0m\u001b[1;33m:\u001b[0m\u001b[1;33m\u001b[0m\u001b[0m\n\u001b[0;32m-> 1225\u001b[0;31m             \u001b[1;32mraise\u001b[0m \u001b[0mIOError\u001b[0m\u001b[1;33m(\u001b[0m\u001b[0mmsg\u001b[0m\u001b[1;33m)\u001b[0m\u001b[1;33m\u001b[0m\u001b[0m\n\u001b[0m\u001b[1;32m   1226\u001b[0m         \u001b[0mpolygons\u001b[0m \u001b[1;33m=\u001b[0m \u001b[1;33m[\u001b[0m\u001b[1;33m]\u001b[0m\u001b[1;33m\u001b[0m\u001b[0m\n\u001b[1;32m   1227\u001b[0m         \u001b[0mpolygon_types\u001b[0m \u001b[1;33m=\u001b[0m \u001b[1;33m[\u001b[0m\u001b[1;33m]\u001b[0m\u001b[1;33m\u001b[0m\u001b[0m\n",
      "\u001b[0;31mOSError\u001b[0m: Unable to open boundary dataset file. Only the 'crude' and  'low',\nresolution datasets are installed by default.\nIf you are requesting an, 'intermediate', 'high' or 'full'\nresolution dataset, you may need to download and install those\nfiles separately with\n`conda install -c conda-forge basemap-data-hires`."
     ]
    }
   ],
   "source": [
    "test_map = Basemap(llcrnrlon=15.2,llcrnrlat=47.06,urcrnrlon=15.5, urcrnrlat=47.49, epsg = 31284,resolution='i',projection='merc',lon_0=14.8,lat_0=47.2)\n",
    "\n",
    "\n",
    "test__map.arcgisimage(service='ESRI_StreetMap_World_2D', xpixels = 12000, verbose= True)"
   ]
  }
 ],
 "metadata": {
  "anaconda-cloud": {},
  "kernelspec": {
   "display_name": "Python [conda root]",
   "language": "python",
   "name": "conda-root-py"
  },
  "language_info": {
   "codemirror_mode": {
    "name": "ipython",
    "version": 3
   },
   "file_extension": ".py",
   "mimetype": "text/x-python",
   "name": "python",
   "nbconvert_exporter": "python",
   "pygments_lexer": "ipython3",
   "version": "3.5.2"
  }
 },
 "nbformat": 4,
 "nbformat_minor": 1
}
