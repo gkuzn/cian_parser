{
 "cells": [
  {
   "cell_type": "code",
   "execution_count": 7,
   "metadata": {
    "collapsed": true
   },
   "outputs": [],
   "source": [
    "import pandas as pd\n",
    "import numpy as np"
   ]
  },
  {
   "cell_type": "code",
   "execution_count": 2,
   "metadata": {
    "collapsed": true
   },
   "outputs": [],
   "source": [
    "path = \"C:/Users/Artem/Documents/Diploma/output/links_collection/\"\n",
    "read_list =[path + 'data04_02_2017__02_14_35_STEP_ONE.csv',\n",
    "           path + 'FINAL_data04_02_2017__05_12_02.csv',\n",
    "           path + 'FINAL_data04_02_2017__10_21_52.csv']"
   ]
  },
  {
   "cell_type": "code",
   "execution_count": 5,
   "metadata": {
    "collapsed": false
   },
   "outputs": [],
   "source": [
    "df = pd.DataFrame()\n",
    "for file in read_list:\n",
    "    df_mini = pd.read_csv(file,sep=';')\n",
    "    if len(df)!=0:\n",
    "        df = pd.concat([df,df_mini])\n",
    "    else:\n",
    "        df = df_mini.copy()"
   ]
  },
  {
   "cell_type": "code",
   "execution_count": 8,
   "metadata": {
    "collapsed": false
   },
   "outputs": [],
   "source": [
    "df['min_price'] = np.nan\n",
    "df['max_price'] = np.nan\n",
    "df['min_price_date'] = np.nan\n",
    "df['max_price_date'] = np.nan"
   ]
  },
  {
   "cell_type": "code",
   "execution_count": 10,
   "metadata": {
    "collapsed": false,
    "scrolled": true
   },
   "outputs": [],
   "source": [
    "df.to_csv('all_links_4_02_2016.csv',sep=';')"
   ]
  },
  {
   "cell_type": "code",
   "execution_count": 1,
   "metadata": {
    "collapsed": false
   },
   "outputs": [
    {
     "name": "stdout",
     "output_type": "stream",
     "text": [
      "{'Description': '\\n \\n Квартиры в ЖК Прима Парк. Ключи в декабре! От Застройщика. Своя квартира в Новой Москве от 2,8 млн. руб.! Отделка в подарок! Ипотека от 6,5%. Рассрочка 0%. Развитая инфраструктура: сады. школы. ФЗ-214.7 мин. До м. Бунинская аллея.]]&gt;\\n \\n\\n \\n\\n \\n \\n \\n\\n\\n\\n\\n\\n\\n\\n\\nКОРТРОС\\n\\n\\n\\n\\n\\n\\n\\n Показать телефон\\n \\n\\n+7 495 134-60-16\\n\\n\\n Пожалуйста, скажите, что нашли это объявление на ЦИАН\\n \\n\\n\\n\\n\\n\\n\\n\\n Заказ обратного звонка\\n \\n\\n\\n\\n /* */\\n \\n', 'price_ar': '3283830,0', 'is_premium': '<span class=\"object_descr_dt_added\">сегодня, 14:38</span>', 'publication_date': '<span class=\"object_descr_dt_added\">сегодня, 14:38</span>', 'Metro_station': 'None', 'sale': '<span class=\"object_descr_dt_added\">сегодня, 14:38</span>', 'Address': ' Москва, Щербинка, район Щербинка, ул. Барышевская Роща, 22 ', 'if_closed': 'None'}\n",
      "[]\n"
     ]
    }
   ],
   "source": [
    "#get_data_from_page_PART3.py NEW!!!\n",
    "import pandas as pd\n",
    "import requests\n",
    "import re\n",
    "def html_stripper(text):\n",
    "    return re.sub('<[^<]+?>', '', str(text))\n",
    "from bs4 import BeautifulSoup\n",
    "\n",
    "\n",
    "def if_closed(flat_page, dic):\n",
    "    sth = flat_page.find('span', attrs={'class':\"object_descr_warning object_descr_warning_red\"})\n",
    "    sth = html_stripper(sth)\n",
    "    sth = sth.replace('\\n',' ')\n",
    "    sth = sth.replace('                       ',' ')\n",
    "    dic['if_closed'] = sth\n",
    "def get_price_ar(flat_page, dic):\n",
    "    sth = flat_page.find('div', attrs={'id':\"price_rur\"})\n",
    "    sth = html_stripper(sth)\n",
    "    sth = sth.replace('\\n',' ')\n",
    "    sth = sth.replace('                       ',' ')\n",
    "    dic['price_ar'] = sth\n",
    "\n",
    "#Выдаёт не один элемент, а сразу небольшой словарь с переменными\n",
    "def metro(flat_page,dic):\n",
    "    #в sth (от англиского something) содержится много того, что нам нужно   \n",
    "    # сколько миниут до метро и на машине или пешком\n",
    "    sth = flat_page.find('span', attrs={'class':'object_item_metro_comment'})\n",
    "    sth = html_stripper(sth)\n",
    "    sth_list=sth.split('\\n')\n",
    "    sth_list = list(filter(None, sth_list))\n",
    "    Metrdist = re.findall('\\d+', sth)\n",
    "    if len(Metrdist)==1:\n",
    "        dic['Metro_time'] = int( Metrdist[0] )\n",
    "    if 'пешком'in sth:\n",
    "        dic['Walk_metro']=int(1)\n",
    "    if 'машин' in sth:\n",
    "        dic['Walk_metro']=int(0)\n",
    "    # Станция метро\n",
    "    sth = flat_page.find('a', attrs={'class':\"object_item_metro_name\"})\n",
    "    sth = html_stripper(sth)\n",
    "    dic[\"Metro_station\"] = str(sth)\n",
    "    \n",
    "def add_feat4(dic,sth,spliter1,spliter2, key):\n",
    "    #sth_list =str(sth).split(spliter)\n",
    "    sth_list = re.split(spliter1+'|'+spliter2,sth)\n",
    "    if len(sth_list)>1:\n",
    "        dic[key] = sth_list[1]\n",
    "    else:\n",
    "        dic[key] = sth_list[0]\n",
    "def get_address(flat_page,dic):\n",
    "    sth = flat_page.find('h1', attrs={'class':'object_descr_addr'})\n",
    "    sth = html_stripper(sth)\n",
    "    sth = sth.replace('\\n',' ')\n",
    "    sth = sth.replace('                       ',' ')\n",
    "    dic['Address'] = sth\n",
    "def many_get3(flat_page):\n",
    "    #print(flat_page)\n",
    "    dic ={}\n",
    "    #Всякая хрень почти из подзаголовка\n",
    "    sth = flat_page.find('span', attrs={'class':'object_descr_dt_added'})#.contents[1]\n",
    "    sth=str(sth)\n",
    "    #print(sth)\n",
    "    add_feat4(dic=dic ,sth=sth ,spliter1='\"deal_type\": ',spliter2 = '\"publication_date\"',key= 'sale')\n",
    "    add_feat4(dic=dic ,sth=sth ,spliter1='\"publication_date\": ',spliter2 = ', \"id\":',key= 'publication_date')\n",
    "    add_feat4(dic=dic ,sth=sth ,spliter1='\"is_premium\":',spliter2 = '\"deal_type\":',key= 'is_premium')\n",
    "    # Добавать ближайшую (первую в списке из ближайших) станций метро, время на способ добраться (пешком или на машине)\n",
    "    metro(flat_page,dic)\n",
    "    get_address(flat_page,dic)\n",
    "    if_closed(flat_page, dic)\n",
    "    get_price_ar(flat_page, dic)\n",
    "    \n",
    "    sth = flat_page.find('div', attrs={'class':'object_descr_text'})\n",
    "    sth = html_stripper(sth)\n",
    "    sth.replace('\\n',' ')\n",
    "    #print()\n",
    "    dic['Description'] = re.sub(' +',' ',sth)\n",
    "    return(dic)\n",
    "\n",
    "#link_number = 151535540\n",
    "#link_number = 150718150\n",
    "link_number = 147497564\n",
    "flat_url = 'http://www.cian.ru/sale/flat/' + str(link_number) + '/'\n",
    "flat_page = requests.get(flat_url)\n",
    "flat_page = flat_page.content\n",
    "flat_page = BeautifulSoup(flat_page, 'lxml')\n",
    "dic={}\n",
    "\n",
    "print(many_get3(flat_page))\n",
    "print(list(dic))"
   ]
  }
 ],
 "metadata": {
  "anaconda-cloud": {},
  "kernelspec": {
   "display_name": "Python [conda root]",
   "language": "python",
   "name": "conda-root-py"
  },
  "language_info": {
   "codemirror_mode": {
    "name": "ipython",
    "version": 3
   },
   "file_extension": ".py",
   "mimetype": "text/x-python",
   "name": "python",
   "nbconvert_exporter": "python",
   "pygments_lexer": "ipython3",
   "version": "3.5.2"
  }
 },
 "nbformat": 4,
 "nbformat_minor": 1
}
