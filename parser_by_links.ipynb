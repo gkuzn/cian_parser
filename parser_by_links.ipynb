{
 "cells": [
  {
   "cell_type": "code",
   "execution_count": null,
   "metadata": {
    "collapsed": false
   },
   "outputs": [
    {
     "name": "stdout",
     "output_type": "stream",
     "text": [
      "Start\n",
      "111.76693048363846\n",
      "Packages downloaded\n",
      "Start parsing\n"
     ]
    },
    {
     "name": "stderr",
     "output_type": "stream",
     "text": [
      "  0%|                                                                          | 108/149119 [01:35<30:20:10,  1.36it/s]"
     ]
    }
   ],
   "source": [
    "print('Start')\n",
    "from IPython.display import clear_output\n",
    "import requests\n",
    "import datetime\n",
    "import matplotlib.pyplot as plt\n",
    "import re\n",
    "from bs4 import BeautifulSoup\n",
    "import pandas as pd\n",
    "import time\n",
    "from random import shuffle\n",
    "#Библиотека содержит\n",
    "import get_data_dic\n",
    "import distr\n",
    "from tqdm import tqdm\n",
    "print('Packages downloaded')\n",
    "#Вывод на экран текущего времени (час, мин)\n",
    "localtime = time.localtime(time.time())\n",
    "#Ссылкы на первую страницу выдачи при поиске\n",
    "#квартир из определенного района при поиске квартир из ЦАО\n",
    "def split_link(link):\n",
    "    return link.split('/')[-2]\n",
    "#print(dist_list)\n",
    "#dist_list=[cent]\n",
    "#X - будущий большой датасет со всеми квартирами и фичами\n",
    "N=30 #число страниц, по которым мы бегаем, ища\n",
    "X_open = []#all data\n",
    "X_closed = []\n",
    "#Цикл по всем районам. Номер района в цикле это и есть номер,\n",
    "#под которым этот районом будет закодирован в конечном датасете\n",
    "ID=0 #номер квартиры в датасете\n",
    "link_loop_couter = 0\n",
    "print('Start parsing')\n",
    "df_all_links = pd.read_csv('C:/Users/Artem/Documents/Diploma/output/links_collection/all/all_links_4_02_2016.csv',sep =';')\n",
    "links = list(map(split_link ,list(df_all_links['Link']) ))\n",
    "shuffle(links)\n",
    "for link in tqdm(links):\n",
    "    #if (link_loop_couter%30==0)|(link_loop_couter==10):\n",
    "    #    print(link_loop_couter+1,') ', time.strftime(\"%H_%M_%S\"),end= ' ')\n",
    "    link_loop_couter+=1\n",
    "    #словарь из фич для данной квартиры\n",
    "    ind_data_dic=get_data_dic.get_data_dic (link)\n",
    "    #добавляем поле District, которое зависит от района\n",
    "    ind_data_dic['ID']=ID\n",
    "    ind_data_dic['Link']='http://www.cian.ru/sale/flat/' + str(link) + '/'\n",
    "    #ind_data_dic['Global_link'] = dist_list[distN]\n",
    "    ind_data_dic['parsing_date'] = time.strftime('%d-%m-%Y %H:%M:%S')\n",
    "    ID+=1\n",
    "    #добавляем словарь фич для квартиры в итоговый датасет    \n",
    "    if ind_data_dic['if_closed']=='Объявление снято с публикации':\n",
    "        X_closed.append(ind_data_dic)\n",
    "    else:\n",
    "        X_open.append(ind_data_dic)\n",
    "    #print(\"preparing data\")\n",
    "    data_open = pd.DataFrame(X_open)\n",
    "    data_closed = pd.DataFrame(X_closed)\n",
    "    \n",
    "    #print(str(distN) + '/' + str(len(dist_list)))\n",
    "    if (link_loop_couter%1000==0)|(  (link_loop_couter%100==0) & (link_loop_couter<1000)  ) :\n",
    "        data_closed.to_csv(\"output/closed/\"+time.strftime(\"%d_%m_%Y\")+'__'+time.strftime(\"%H_%M_%S\") +'DAY' +\".csv\",sep=';')\n",
    "        data_open.to_csv(\"output/open/\"+time.strftime(\"%d_%m_%Y\")+'__'+time.strftime(\"%H_%M_%S\") +'DAY' +\".csv\",sep=';')\n",
    "    #clear_output()\n",
    "    #plt.show()\n",
    "    \n",
    "data.to_csv(\"output\\FINAL_data\" +time.strftime(\"%d_%m_%Y\")+'__'+ time.strftime(\"%H_%M_%S\") +'DAY'+ \".csv\",sep=';')\n",
    "print('Done')"
   ]
  },
  {
   "cell_type": "code",
   "execution_count": 12,
   "metadata": {
    "collapsed": false
   },
   "outputs": [],
   "source": [
    "\n",
    "x = [1,2,3]\n",
    "shuffle(x)"
   ]
  },
  {
   "cell_type": "code",
   "execution_count": 13,
   "metadata": {
    "collapsed": false
   },
   "outputs": [
    {
     "data": {
      "text/plain": [
       "[3, 1, 2]"
      ]
     },
     "execution_count": 13,
     "metadata": {},
     "output_type": "execute_result"
    }
   ],
   "source": [
    "x"
   ]
  }
 ],
 "metadata": {
  "anaconda-cloud": {},
  "kernelspec": {
   "display_name": "Python [conda root]",
   "language": "python",
   "name": "conda-root-py"
  },
  "language_info": {
   "codemirror_mode": {
    "name": "ipython",
    "version": 3
   },
   "file_extension": ".py",
   "mimetype": "text/x-python",
   "name": "python",
   "nbconvert_exporter": "python",
   "pygments_lexer": "ipython3",
   "version": "3.5.2"
  }
 },
 "nbformat": 4,
 "nbformat_minor": 1
}
